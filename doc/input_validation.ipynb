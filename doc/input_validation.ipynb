{
 "cells": [
  {
   "cell_type": "markdown",
   "metadata": {
    "slideshow": {
     "slide_type": "slide"
    }
   },
   "source": [
    "# Input Validation"
   ]
  },
  {
   "cell_type": "markdown",
   "metadata": {
    "slideshow": {
     "slide_type": "notes"
    }
   },
   "source": [
    "Here we provide clear and actionable BKMs on a few input validation aspects"
   ]
  },
  {
   "cell_type": "markdown",
   "metadata": {
    "slideshow": {
     "slide_type": "slide"
    }
   },
   "source": [
    "### The Purpose of Input Validation\n",
    "\n",
    "- Ensures only properly formed data is entering the workflow.\n",
    "- Preventing malformed data from persisting.\n",
    "\n",
    "> Input validation should happen as early as possible in the data flow."
   ]
  },
  {
   "cell_type": "markdown",
   "metadata": {
    "slideshow": {
     "slide_type": "notes"
    }
   },
   "source": [
    "Input validation is performed to ensure only properly formed data is entering the workflow in an information system, preventing malformed data from persisting in the database and triggering malfunction of various downstream components.\n",
    "\n",
    "Input validation should happen as early as possible in the data flow, preferably as soon as the data is received from the external party.\n",
    "\n",
    "Data from all potentially untrusted sources should be subject to input validation, including not only Internet-facing web clients but also backend feeds over extranets, from suppliers, partners, vendors or regulators, each of which may be compromised on their own and start sending malformed data."
   ]
  },
  {
   "cell_type": "markdown",
   "metadata": {
    "slideshow": {
     "slide_type": "slide"
    }
   },
   "source": [
    "### Whitelisting vs. Blacklisting\n",
    "\n",
    "- White list validation define what IS authorized, and reject everyting else.\n",
    "- It is a **common mistake** to use black list validation which defines what is not autorized"
   ]
  },
  {
   "cell_type": "markdown",
   "metadata": {
    "slideshow": {
     "slide_type": "slide"
    }
   },
   "source": [
    "## Implementing Input Validation"
   ]
  },
  {
   "cell_type": "markdown",
   "metadata": {
    "slideshow": {
     "slide_type": "slide"
    }
   },
   "source": [
    "### Exceptions\n",
    "\n",
    "- Make use of built-in exception classes when it makes sense: e.g. ValueError, IndexError, NotImplementedError ..."
   ]
  },
  {
   "cell_type": "code",
   "execution_count": 115,
   "metadata": {
    "slideshow": {
     "slide_type": "fragment"
    }
   },
   "outputs": [],
   "source": [
    "def connect_to_next_port(self, minimum):\n",
    "    \"\"\"Connects to the next available port.\n",
    "\n",
    "    Args:\n",
    "      minimum: A port value greater or equal to 1024.\n",
    "\n",
    "    Returns:\n",
    "      The new minimum port.\n",
    "\n",
    "    Raises:\n",
    "      ConnectionError: If no available port is found.\n",
    "    \"\"\"\n",
    "    if minimum < 1024:\n",
    "      # Note that this raising of ValueError is not mentioned in the doc\n",
    "      # string's \"Raises:\" section because it is not appropriate to\n",
    "      # guarantee this specific behavioral reaction to API misuse.\n",
    "      raise ValueError(f'Min. port must be at least 1024, not {minimum}.')\n",
    "    port = self._find_next_open_port(minimum)\n",
    "    if not port:\n",
    "      raise ConnectionError(\n",
    "          f'Could not connect to service on port {minimum} or higher.')\n",
    "    assert port >= minimum, (\n",
    "        f'Unexpected port {port} when minimum was {minimum}.')\n",
    "    return port\n",
    "# credits https://google.github.io/styleguide/pyguide.html\n",
    " "
   ]
  },
  {
   "cell_type": "markdown",
   "metadata": {
    "slideshow": {
     "slide_type": "fragment"
    }
   },
   "source": [
    "- Never use catch-all except: statements, or catch Exception or StandardError, unless you are\n",
    "    - re-raising the exception, or\n",
    "    - suppress and record exception (e.g. to protect a thread or command line app from crashing)."
   ]
  },
  {
   "cell_type": "markdown",
   "metadata": {
    "slideshow": {
     "slide_type": "notes"
    }
   },
   "source": [
    "Python is very tolerant in this regard and except: will really catch everything including misspelled names, sys.exit() calls, Ctrl+C interrupts, unittest failures and all kinds of other exceptions that you simply don’t want to catch."
   ]
  },
  {
   "cell_type": "code",
   "execution_count": 116,
   "metadata": {
    "slideshow": {
     "slide_type": "fragment"
    }
   },
   "outputs": [],
   "source": [
    "# Return the width of the terminal, or None if it couldn't be\n",
    "# determined (e.g. because we're not being run interactively).\n",
    "def term_width(out):\n",
    "  if not out.isatty():\n",
    "    return None\n",
    "  try:\n",
    "    p = subprocess.Popen([\"stty\", \"size\"],\n",
    "                         stdout=subprocess.PIPE, stderr=subprocess.PIPE)\n",
    "    (out, err) = p.communicate()\n",
    "    if p.returncode != 0 or err:\n",
    "      return None \n",
    "    return int(out.split()[1])\n",
    "  except (IndexError, OSError, ValueError):\n",
    "    return None\n",
    "# credits gtest-parallel"
   ]
  },
  {
   "cell_type": "markdown",
   "metadata": {
    "slideshow": {
     "slide_type": "fragment"
    }
   },
   "source": [
    "- Minimize the amount of code in a try/except block."
   ]
  },
  {
   "cell_type": "markdown",
   "metadata": {
    "slideshow": {
     "slide_type": "fragment"
    }
   },
   "source": [
    "- Use the finally clause (cleanup, closing a file, ...)."
   ]
  },
  {
   "cell_type": "code",
   "execution_count": 4,
   "metadata": {
    "slideshow": {
     "slide_type": "skip"
    }
   },
   "outputs": [],
   "source": [
    "def peek(file_fd, num_bytes):\n",
    "    \"\"\"\n",
    "    Peek num_bytes bytes from file_fd file object\n",
    "    \"\"\"\n",
    "    pos = file_fd.tell()\n",
    "    try:\n",
    "        result = file_fd.read(num_bytes)\n",
    "    except:\n",
    "        raise  # reraise exception if any\n",
    "    finally:\n",
    "        file_fd.seek(pos)  # return position back\n",
    "    return result"
   ]
  },
  {
   "cell_type": "markdown",
   "metadata": {
    "slideshow": {
     "slide_type": "slide"
    }
   },
   "source": [
    "### What is Wrong with assert()?\n",
    "\n",
    "- The `assert()` function and `__debug__` blocks are **debug code**.\n",
    "- The debug code is removed in production via `python -O` or `PYTHONOPTIMIZE=1`."
   ]
  },
  {
   "cell_type": "markdown",
   "metadata": {
    "slideshow": {
     "slide_type": "notes"
    }
   },
   "source": [
    "Never use assert to validate inputs. assert is to test internal logic correctness, not to enforce correct usage or to indicate that some unexpected event occurred.\n",
    "\n",
    "It is typical that in production Python apps runs with optimization enabled which makes all assert calls void."
   ]
  },
  {
   "cell_type": "code",
   "execution_count": 2,
   "metadata": {
    "scrolled": true,
    "slideshow": {
     "slide_type": "fragment"
    }
   },
   "outputs": [
    {
     "ename": "AssertionError",
     "evalue": "",
     "output_type": "error",
     "traceback": [
      "\u001b[1;31m---------------------------------------------------------------------------\u001b[0m",
      "\u001b[1;31mAssertionError\u001b[0m                            Traceback (most recent call last)",
      "Input \u001b[1;32mIn [2]\u001b[0m, in \u001b[0;36m<cell line: 12>\u001b[1;34m()\u001b[0m\n\u001b[0;32m      9\u001b[0m     \u001b[38;5;28;01mreturn\u001b[39;00m path\u001b[38;5;241m.\u001b[39mresolve()\n\u001b[0;32m     11\u001b[0m \u001b[38;5;66;03m# assert() will catch the malicous patch in debug mode \u001b[39;00m\n\u001b[1;32m---> 12\u001b[0m \u001b[43mget_log\u001b[49m\u001b[43m(\u001b[49m\u001b[38;5;124;43m'\u001b[39;49m\u001b[38;5;124;43m../../../../../etc/passwd\u001b[39;49m\u001b[38;5;124;43m'\u001b[39;49m\u001b[43m)\u001b[49m\n",
      "Input \u001b[1;32mIn [2]\u001b[0m, in \u001b[0;36mget_log\u001b[1;34m(name)\u001b[0m\n\u001b[0;32m      6\u001b[0m \u001b[38;5;124;03m\"\"\" Resolve log name to a path for download \"\"\"\u001b[39;00m\n\u001b[0;32m      7\u001b[0m path \u001b[38;5;241m=\u001b[39m LOGS_DIR \u001b[38;5;241m/\u001b[39m name\n\u001b[1;32m----> 8\u001b[0m \u001b[38;5;28;01massert\u001b[39;00m(LOGS_DIR \u001b[38;5;129;01min\u001b[39;00m path\u001b[38;5;241m.\u001b[39mresolve()\u001b[38;5;241m.\u001b[39mparents)\n\u001b[0;32m      9\u001b[0m \u001b[38;5;28;01mreturn\u001b[39;00m path\u001b[38;5;241m.\u001b[39mresolve()\n",
      "\u001b[1;31mAssertionError\u001b[0m: "
     ]
    }
   ],
   "source": [
    "from  pathlib import Path\n",
    "\n",
    "LOGS_DIR = Path('./logs')\n",
    "\n",
    "def get_log(name):\n",
    "    \"\"\" Resolve log name to a path for download \"\"\"\n",
    "    path = LOGS_DIR / name\n",
    "    assert(LOGS_DIR in path.resolve().parents)\n",
    "    return path.resolve()\n",
    "\n",
    "# assert() will catch the malicous patch in debug mode \n",
    "get_log('../../../../../etc/passwd')"
   ]
  },
  {
   "cell_type": "code",
   "execution_count": 4,
   "metadata": {
    "slideshow": {
     "slide_type": "fragment"
    }
   },
   "outputs": [
    {
     "name": "stdout",
     "output_type": "stream",
     "text": [
      "C:\\etc\\passwd\n"
     ]
    }
   ],
   "source": [
    "# Now try calling the same code in optimized mode\n",
    "\n",
    "!python -O ../src/assert.py"
   ]
  },
  {
   "cell_type": "markdown",
   "metadata": {
    "slideshow": {
     "slide_type": "slide"
    }
   },
   "source": [
    "### Type conversion\n",
    "\n",
    "Strict exeption handling with type conversion (`int()`, `float()`):"
   ]
  },
  {
   "cell_type": "code",
   "execution_count": 5,
   "metadata": {
    "slideshow": {
     "slide_type": "-"
    }
   },
   "outputs": [
    {
     "name": "stdout",
     "output_type": "stream",
     "text": [
      "Please enter your age: 12\n"
     ]
    }
   ],
   "source": [
    "while True:\n",
    "  try:\n",
    "    a = int(input(\"Please enter your age: \"))\n",
    "    break\n",
    "  except ValueError:\n",
    "    print(\"Oops!  That was no valid number.  Try again...\")"
   ]
  },
  {
   "cell_type": "markdown",
   "metadata": {
    "slideshow": {
     "slide_type": "fragment"
    }
   },
   "source": [
    "Minimum and maximum value range check for numerical parameters and dates, minimum and maximum length check for strings:\n"
   ]
  },
  {
   "cell_type": "code",
   "execution_count": 6,
   "metadata": {
    "slideshow": {
     "slide_type": "-"
    }
   },
   "outputs": [
    {
     "name": "stdout",
     "output_type": "stream",
     "text": [
      "You must be 18 years old\n"
     ]
    }
   ],
   "source": [
    "def process_order(age):\n",
    "  if not 18 <= age <= 120:\n",
    "    print(\"You must be 18 years old\")\n",
    "    return\n",
    "  print(\"Order processed\")\n",
    "\n",
    "process_order(4)"
   ]
  },
  {
   "cell_type": "markdown",
   "metadata": {
    "slideshow": {
     "slide_type": "slide"
    }
   },
   "source": [
    "### Paths\n",
    "\n",
    "Normalize paths and resolve symlinks:"
   ]
  },
  {
   "cell_type": "code",
   "execution_count": 15,
   "metadata": {
    "scrolled": true,
    "slideshow": {
     "slide_type": "-"
    }
   },
   "outputs": [
    {
     "name": "stdout",
     "output_type": "stream",
     "text": [
      "C:\\work\\projects\\python-security-tutorial\\doc\\logs\\passwd\n"
     ]
    }
   ],
   "source": [
    "from pathlib import Path\n",
    "\n",
    "try:\n",
    "  log_path = Path('logs/../logs/passwd').expanduser().resolve()\n",
    "except (FileNotFoundError, RuntimeError):\n",
    "  print(\"Path is invalid\")\n",
    "print(str(log_path))"
   ]
  },
  {
   "cell_type": "markdown",
   "metadata": {
    "slideshow": {
     "slide_type": "fragment"
    }
   },
   "source": [
    "Verify root folder:"
   ]
  },
  {
   "cell_type": "code",
   "execution_count": 8,
   "metadata": {
    "slideshow": {
     "slide_type": "-"
    }
   },
   "outputs": [
    {
     "data": {
      "text/plain": [
       "False"
      ]
     },
     "execution_count": 8,
     "metadata": {},
     "output_type": "execute_result"
    }
   ],
   "source": [
    "from pathlib import Path\n",
    "\n",
    "def is_in_home(path):\n",
    "    \"\"\"Checks if path is under user HOME folder\"\"\"\n",
    "    return str(path.expanduser().resolve(strict=True)).startswith(str(Path.home()))\n",
    "        \n",
    "\n",
    "is_in_home(Path.home() / '..')"
   ]
  },
  {
   "cell_type": "markdown",
   "metadata": {
    "slideshow": {
     "slide_type": "slide"
    }
   },
   "source": [
    "### Regexp\n",
    "\n",
    "Regular expressions for any other structured data covering the whole input string (^...$) and not using \"any character\" wildcard (such as . or \\S)\n"
   ]
  },
  {
   "cell_type": "code",
   "execution_count": 20,
   "metadata": {},
   "outputs": [
    {
     "data": {
      "text/plain": [
       "True"
      ]
     },
     "execution_count": 20,
     "metadata": {},
     "output_type": "execute_result"
    }
   ],
   "source": [
    "import re\n",
    "\n",
    "def is_hex(value):\n",
    "    return bool(re.match(\"^[0-9A-Fa-f]+$\", value))\n",
    "\n",
    "is_hex('baadf00d')"
   ]
  },
  {
   "cell_type": "markdown",
   "metadata": {
    "slideshow": {
     "slide_type": "slide"
    }
   },
   "source": [
    "## JSON Schema"
   ]
  },
  {
   "cell_type": "markdown",
   "metadata": {
    "slideshow": {
     "slide_type": "slide"
    }
   },
   "source": [
    "### JSON Schema"
   ]
  },
  {
   "cell_type": "markdown",
   "metadata": {
    "slideshow": {
     "slide_type": "-"
    }
   },
   "source": [
    "JSON Schema is a vocabulary that allows you to annotate and validate JSON documents."
   ]
  },
  {
   "cell_type": "markdown",
   "metadata": {
    "slideshow": {
     "slide_type": "fragment"
    }
   },
   "source": [
    "Also applicable to YAML and other structured data"
   ]
  },
  {
   "cell_type": "code",
   "execution_count": 29,
   "metadata": {
    "slideshow": {
     "slide_type": "fragment"
    }
   },
   "outputs": [],
   "source": [
    "from jsonschema import validate\n",
    "\n",
    "# A sample schema, like what we'd get from json.load()\n",
    "schema = {\n",
    "    \"type\" : \"object\",\n",
    "    \"properties\" : {\n",
    "        \"price\" : {\"type\" : \"number\"},\n",
    "        \"name\" : {\"type\" : \"string\"},\n",
    "    },\n",
    "}  \n",
    "\n",
    "# If no exception is raised by validate(), the instance is valid.\n",
    "validate(instance={\"name\" : \"Eggs\", \"price\" : 34.99}, schema=schema)"
   ]
  },
  {
   "cell_type": "code",
   "execution_count": 31,
   "metadata": {
    "slideshow": {
     "slide_type": "fragment"
    }
   },
   "outputs": [
    {
     "name": "stdout",
     "output_type": "stream",
     "text": [
      "Data is invalid: 'Invalid' is not of type 'number'\n",
      "\n",
      "Failed validating 'type' in schema['properties']['price']:\n",
      "    {'type': 'number'}\n",
      "\n",
      "On instance['price']:\n",
      "    'Invalid'\n"
     ]
    }
   ],
   "source": [
    "from jsonschema import ValidationError\n",
    "try:\n",
    "  validate(instance={\"name\" : \"Eggs\", \"price\" : \"Invalid\"}, schema=schema)\n",
    "except ValidationError as err:\n",
    "  print(f'Data is invalid: {err}')"
   ]
  },
  {
   "cell_type": "markdown",
   "metadata": {
    "slideshow": {
     "slide_type": "slide"
    }
   },
   "source": [
    "### Common Mistakes: Arrays vs Tuple validation"
   ]
  },
  {
   "cell_type": "markdown",
   "metadata": {
    "slideshow": {
     "slide_type": "-"
    }
   },
   "source": [
    "Two modes of array validation:\n",
    "1. List validation: each item matches the same schema.\n",
    "2. Tuple validation: each item may have a different schema."
   ]
  },
  {
   "cell_type": "code",
   "execution_count": 31,
   "metadata": {
    "slideshow": {
     "slide_type": "fragment"
    }
   },
   "outputs": [
    {
     "name": "stdout",
     "output_type": "stream",
     "text": [
      "Validation PASS\n"
     ]
    }
   ],
   "source": [
    "# This attack is fixed starting from Draft201909Validator\n",
    "# available in jsonschema>=4.0.0\n",
    "\n",
    "from jsonschema import Draft7Validator as Validator\n",
    "# This schema has a mistake.\n",
    "# It only validates the first array element and not limiting number of elements\n",
    "schema = {\n",
    "    \"type\": \"array\",\n",
    "    \"items\":  [{\"$ref\": \"#/definitions/good\"}],\n",
    "    \n",
    "    \"definitions\": {\n",
    "        \"good\": {\n",
    "            \"type\" : \"object\",\n",
    "            \"properties\" : {\n",
    "                \"price\" : {\"type\" : \"number\"},\n",
    "                \"name\" : {\"type\" : \"string\"},\n",
    "            }\n",
    "        }\n",
    "    }\n",
    "}\n",
    "\n",
    "\n",
    "document=[{\"name\" : \"Orange\", \"price\" : 1}, {\"name\" : \"Eggs\", \"price\" : \"2 rubbles\"}]\n",
    "# validation pass, which is unexpected\n",
    "Validator(schema).validate(document)\n",
    "print(\"Validation PASS\")"
   ]
  },
  {
   "cell_type": "code",
   "execution_count": 32,
   "metadata": {
    "slideshow": {
     "slide_type": "fragment"
    }
   },
   "outputs": [
    {
     "ename": "ValidationError",
     "evalue": "'2 rubbles' is not of type 'number'\n\nFailed validating 'type' in schema['items']['properties']['price']:\n    {'type': 'number'}\n\nOn instance[1]['price']:\n    '2 rubbles'",
     "output_type": "error",
     "traceback": [
      "\u001b[1;31m---------------------------------------------------------------------------\u001b[0m",
      "\u001b[1;31mValidationError\u001b[0m                           Traceback (most recent call last)",
      "Input \u001b[1;32mIn [32]\u001b[0m, in \u001b[0;36m<cell line: 3>\u001b[1;34m()\u001b[0m\n\u001b[0;32m      1\u001b[0m \u001b[38;5;66;03m# lets fix the scema and try again\u001b[39;00m\n\u001b[0;32m      2\u001b[0m schema[\u001b[38;5;124m\"\u001b[39m\u001b[38;5;124mitems\u001b[39m\u001b[38;5;124m\"\u001b[39m] \u001b[38;5;241m=\u001b[39m {\u001b[38;5;124m\"\u001b[39m\u001b[38;5;124m$ref\u001b[39m\u001b[38;5;124m\"\u001b[39m: \u001b[38;5;124m\"\u001b[39m\u001b[38;5;124m#/definitions/good\u001b[39m\u001b[38;5;124m\"\u001b[39m}\n\u001b[1;32m----> 3\u001b[0m \u001b[43mValidator\u001b[49m\u001b[43m(\u001b[49m\u001b[43mschema\u001b[49m\u001b[43m)\u001b[49m\u001b[38;5;241;43m.\u001b[39;49m\u001b[43mvalidate\u001b[49m\u001b[43m(\u001b[49m\u001b[43mdocument\u001b[49m\u001b[43m)\u001b[49m\n\u001b[0;32m      4\u001b[0m \u001b[38;5;28mprint\u001b[39m(\u001b[38;5;124m\"\u001b[39m\u001b[38;5;124mValidation PASS\u001b[39m\u001b[38;5;124m\"\u001b[39m)\n",
      "File \u001b[1;32m~\\AppData\\Roaming\\Python\\Python310\\site-packages\\jsonschema\\validators.py:269\u001b[0m, in \u001b[0;36mcreate.<locals>.Validator.validate\u001b[1;34m(self, *args, **kwargs)\u001b[0m\n\u001b[0;32m    267\u001b[0m \u001b[38;5;28;01mdef\u001b[39;00m \u001b[38;5;21mvalidate\u001b[39m(\u001b[38;5;28mself\u001b[39m, \u001b[38;5;241m*\u001b[39margs, \u001b[38;5;241m*\u001b[39m\u001b[38;5;241m*\u001b[39mkwargs):\n\u001b[0;32m    268\u001b[0m     \u001b[38;5;28;01mfor\u001b[39;00m error \u001b[38;5;129;01min\u001b[39;00m \u001b[38;5;28mself\u001b[39m\u001b[38;5;241m.\u001b[39miter_errors(\u001b[38;5;241m*\u001b[39margs, \u001b[38;5;241m*\u001b[39m\u001b[38;5;241m*\u001b[39mkwargs):\n\u001b[1;32m--> 269\u001b[0m         \u001b[38;5;28;01mraise\u001b[39;00m error\n",
      "\u001b[1;31mValidationError\u001b[0m: '2 rubbles' is not of type 'number'\n\nFailed validating 'type' in schema['items']['properties']['price']:\n    {'type': 'number'}\n\nOn instance[1]['price']:\n    '2 rubbles'"
     ]
    }
   ],
   "source": [
    "# lets fix the scema and try again\n",
    "schema[\"items\"] = {\"$ref\": \"#/definitions/good\"}\n",
    "Validator(schema).validate(document)\n",
    "print(\"Validation PASS\")"
   ]
  },
  {
   "cell_type": "markdown",
   "metadata": {
    "slideshow": {
     "slide_type": "slide"
    }
   },
   "source": [
    "### Useful Links\n",
    "\n",
    "https://cheatsheetseries.owasp.org/cheatsheets/Input_Validation_Cheat_Sheet.html - OWASP Input Validation Cheat Sheet\n",
    "https://google.github.io/styleguide/pyguide.html - Google Python style guide"
   ]
  }
 ],
 "metadata": {
  "celltoolbar": "Slideshow",
  "kernelspec": {
   "display_name": "Python 3 (ipykernel)",
   "language": "python",
   "name": "python3"
  },
  "language_info": {
   "codemirror_mode": {
    "name": "ipython",
    "version": 3
   },
   "file_extension": ".py",
   "mimetype": "text/x-python",
   "name": "python",
   "nbconvert_exporter": "python",
   "pygments_lexer": "ipython3",
   "version": "3.10.6"
  },
  "rise": {
   "autolaunch": true,
   "scroll": true
  }
 },
 "nbformat": 4,
 "nbformat_minor": 4
}
