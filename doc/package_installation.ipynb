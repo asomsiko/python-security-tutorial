{
 "cells": [
  {
   "cell_type": "markdown",
   "id": "d6164443",
   "metadata": {
    "slideshow": {
     "slide_type": "slide"
    }
   },
   "source": [
    "# Python Packages Installation"
   ]
  },
  {
   "cell_type": "markdown",
   "id": "b1f95265",
   "metadata": {
    "slideshow": {
     "slide_type": "slide"
    }
   },
   "source": [
    "## Package Repositories\n",
    "\n",
    "Custom package repositories:\n",
    "\n",
    "- Enterprises hosting internal tools\n",
    "- Super easy for personal use, e.g. https://pypi.org/project/python-pypi-mirror/\n",
    "\n",
    "`pip install [--index-url <url>] [--extra-index-url <url>] ...`"
   ]
  },
  {
   "cell_type": "markdown",
   "id": "5313e1a4",
   "metadata": {
    "slideshow": {
     "slide_type": "slide"
    }
   },
   "source": [
    "### pypi Package Hijack\n",
    "\n",
    "Package search order:\n",
    "\n",
    "1. Default https://pypi.org/simple or `--index-url`\n",
    "2. `--extra-index-url`\n",
    "\n",
    "Attack scenario: Adversary publish the package with the equal name on pypi.org"
   ]
  },
  {
   "cell_type": "markdown",
   "id": "6c9ccb9c",
   "metadata": {
    "slideshow": {
     "slide_type": "slide"
    }
   },
   "source": [
    "## Mitigation\n",
    "\n",
    "Separate public and private packages installation\n",
    "\n",
    "1. Multiple pip install invocations\n",
    "2. Split requirements.txt file for internal and expernal"
   ]
  }
 ],
 "metadata": {
  "celltoolbar": "Slideshow",
  "kernelspec": {
   "display_name": "Python 3 (ipykernel)",
   "language": "python",
   "name": "python3"
  },
  "language_info": {
   "codemirror_mode": {
    "name": "ipython",
    "version": 3
   },
   "file_extension": ".py",
   "mimetype": "text/x-python",
   "name": "python",
   "nbconvert_exporter": "python",
   "pygments_lexer": "ipython3",
   "version": "3.10.6"
  },
  "rise": {
   "autolaunch": true,
   "scroll": true
  }
 },
 "nbformat": 4,
 "nbformat_minor": 5
}
