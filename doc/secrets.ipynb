{
 "cells": [
  {
   "cell_type": "markdown",
   "metadata": {
    "slideshow": {
     "slide_type": "slide"
    }
   },
   "source": [
    "# Handing Secrets"
   ]
  },
  {
   "cell_type": "markdown",
   "metadata": {
    "slideshow": {
     "slide_type": "slide"
    }
   },
   "source": [
    "### What is a Secret?"
   ]
  },
  {
   "cell_type": "markdown",
   "metadata": {
    "slideshow": {
     "slide_type": "-"
    }
   },
   "source": [
    "Example of the secret:\n",
    "- Random token e.g. `http://localhost:8888/?token=a67d2658ed1551eb5cdeca901762760060c1040542f8f6ae`\n",
    "- Password"
   ]
  },
  {
   "cell_type": "markdown",
   "metadata": {
    "slideshow": {
     "slide_type": "slide"
    }
   },
   "source": [
    "### How to Protect it?"
   ]
  },
  {
   "cell_type": "markdown",
   "metadata": {
    "slideshow": {
     "slide_type": "-"
    }
   },
   "source": [
    "Require to be protected over it's lifetime:\n",
    "1. Generating\n",
    "2. Storing\n",
    "3. Verifying\n",
    "4. Retaining "
   ]
  },
  {
   "cell_type": "markdown",
   "metadata": {
    "slideshow": {
     "slide_type": "fragment"
    }
   },
   "source": [
    "> Use cryptography functions, otherwise your secrets can leak"
   ]
  },
  {
   "cell_type": "markdown",
   "metadata": {
    "slideshow": {
     "slide_type": "slide"
    }
   },
   "source": [
    "### Don't Rool Your Own Crypto"
   ]
  },
  {
   "cell_type": "markdown",
   "metadata": {
    "slideshow": {
     "slide_type": "-"
    }
   },
   "source": [
    "- You can rool your own, but probably make security mistakes\n",
    "- Prefer open source, widely known tools and libraries "
   ]
  },
  {
   "cell_type": "markdown",
   "metadata": {
    "slideshow": {
     "slide_type": "notes"
    }
   },
   "source": [
    "You can roll your own, but you probably will make a major security mistake if you are not an expert in security/cryptography or have had your scheme analyzed by multiple experts. I'm more willing to bet on an open-source publicly known encryption scheme that's out there for all to see and analyze. More eyes means more likely that the current version doesn't have major vulnerabilities, as opposed to something developed in-house by non-experts.\n",
    "\n",
    "From Phil Zimmermann's (PGP creator) Introduction to Cryptography (Page 54):\n",
    "\n",
    "When I was in college in the early 70s, I devised what I believed was a brilliant encryption scheme. A simple pseudorandom number stream was added to the plaintext stream to create ciphertext. This would seemingly thwart any frequency analysis of the ciphertext, and would be uncrackable even to the most resourceful government intelligence agencies. I felt so smug about my achievement.\n",
    "\n",
    "Years later, I discovered this same scheme in several introductory cryptography texts and tutorial papers. How nice. Other cryptographers had thought of the same scheme. Unfortunately, the scheme was presented as a simple homework assignment on how to use elementary cryptanalytic techniques to trivially crack it. So much for my brilliant scheme.\n",
    "\n",
    "From this humbling experience I learned how easy it is to fall into a false sense of security when devising an encryption algorithm. Most people don’t realize how fiendishly difficult it is to devise an encryption algorithm that can withstand a prolonged and determined attack by a resourceful opponent."
   ]
  },
  {
   "cell_type": "markdown",
   "metadata": {
    "slideshow": {
     "slide_type": "slide"
    }
   },
   "source": [
    "# Random Numbers\n"
   ]
  },
  {
   "cell_type": "markdown",
   "metadata": {
    "slideshow": {
     "slide_type": "slide"
    }
   },
   "source": [
    "## Where Random Numbers are Used?"
   ]
  },
  {
   "cell_type": "markdown",
   "metadata": {
    "slideshow": {
     "slide_type": "-"
    }
   },
   "source": [
    "You might need random sequences if, for example, you are implementing\n",
    "authentication or password reset."
   ]
  },
  {
   "cell_type": "markdown",
   "metadata": {
    "slideshow": {
     "slide_type": "slide"
    }
   },
   "source": [
    "## Common Pitfails"
   ]
  },
  {
   "cell_type": "markdown",
   "metadata": {
    "slideshow": {
     "slide_type": "-"
    }
   },
   "source": [
    "Not all random numbers are cryptographycally secure"
   ]
  },
  {
   "cell_type": "code",
   "execution_count": 248,
   "metadata": {
    "slideshow": {
     "slide_type": "-"
    }
   },
   "outputs": [
    {
     "name": "stdout",
     "output_type": "stream",
     "text": [
      "0.13436424411240122\n",
      "0.8474337369372327\n"
     ]
    }
   ],
   "source": [
    "import random\n",
    "random.seed(1)\n",
    "print(random.random())\n",
    "print(random.random())"
   ]
  },
  {
   "cell_type": "markdown",
   "metadata": {
    "slideshow": {
     "slide_type": "slide"
    }
   },
   "source": [
    "## The `secrets` Module"
   ]
  },
  {
   "cell_type": "markdown",
   "metadata": {
    "slideshow": {
     "slide_type": "-"
    }
   },
   "source": [
    "For cryptography purposes\n",
    "use [secrets](https://docs.python.org/3/library/secrets.html) module."
   ]
  },
  {
   "cell_type": "code",
   "execution_count": 249,
   "metadata": {
    "slideshow": {
     "slide_type": "-"
    }
   },
   "outputs": [
    {
     "data": {
      "text/plain": [
       "b'\\x9b\\xae\\xfaF\\x9f0g\\xa9\\xd8\\x18bD\\xb7\\xc4o\\x91\\xd79D\\xa3\\xec\\x01d\\x9f\\x0f\\x04\\x0b\\xc8=\\x82\\xfd\\xf5'"
      ]
     },
     "execution_count": 249,
     "metadata": {},
     "output_type": "execute_result"
    }
   ],
   "source": [
    "import secrets\n",
    "secrets.token_bytes()"
   ]
  },
  {
   "cell_type": "markdown",
   "metadata": {
    "slideshow": {
     "slide_type": "-"
    }
   },
   "source": [
    "> A random token size is not part of API contract - it can change any time\n",
    "even with module update."
   ]
  },
  {
   "cell_type": "markdown",
   "metadata": {
    "slideshow": {
     "slide_type": "slide"
    }
   },
   "source": [
    "## Secure Randoms should be Long "
   ]
  },
  {
   "cell_type": "markdown",
   "metadata": {
    "slideshow": {
     "slide_type": "-"
    }
   },
   "source": [
    "How big shoudl be the secret to protect from\n",
    "[brute-force](https://en.wikipedia.org/wiki/Brute-force_attack)?"
   ]
  },
  {
   "cell_type": "code",
   "execution_count": 250,
   "metadata": {
    "slideshow": {
     "slide_type": "-"
    }
   },
   "outputs": [
    {
     "data": {
      "text/plain": [
       "b'w\\xb5&\\xd9\\xc8\\xe2\\x9d\\xc7\\xcf\\x1bG\\xb7\\xaf;\\x94\\xc4W\\xd6\\xe3\\xd0\\xe8\\xf9]ti\\x06\\xd7\\xa4\\x87\\xcfN\\xd7'"
      ]
     },
     "execution_count": 250,
     "metadata": {},
     "output_type": "execute_result"
    }
   ],
   "source": [
    "import secrets\n",
    "secrets.token_bytes(nbytes=32)"
   ]
  },
  {
   "cell_type": "markdown",
   "metadata": {
    "slideshow": {
     "slide_type": "slide"
    }
   },
   "source": [
    "### How to Deal with URLs?"
   ]
  },
  {
   "cell_type": "markdown",
   "metadata": {
    "slideshow": {
     "slide_type": "-"
    }
   },
   "source": [
    "The `secrets.token_hex()` output all ASCII characters:"
   ]
  },
  {
   "cell_type": "code",
   "execution_count": 251,
   "metadata": {
    "slideshow": {
     "slide_type": "-"
    }
   },
   "outputs": [
    {
     "data": {
      "text/plain": [
       "'afbf26a5306a8ecc65151ae8ea48bed7e4aa836d4212d843d128be7a11d86546'"
      ]
     },
     "execution_count": 251,
     "metadata": {},
     "output_type": "execute_result"
    }
   ],
   "source": [
    "import secrets\n",
    "secrets.token_hex()"
   ]
  },
  {
   "cell_type": "markdown",
   "metadata": {
    "slideshow": {
     "slide_type": "fragment"
    }
   },
   "source": [
    "And `secrets.token_urlsafe()` gives even shorter string:"
   ]
  },
  {
   "cell_type": "code",
   "execution_count": 252,
   "metadata": {},
   "outputs": [
    {
     "data": {
      "text/plain": [
       "'uOneeFxWaPTN8kniKTCGD9ibmXPXrJl8BxmyRzwcVwI'"
      ]
     },
     "execution_count": 252,
     "metadata": {},
     "output_type": "execute_result"
    }
   ],
   "source": [
    "import secrets\n",
    "secrets.token_urlsafe()"
   ]
  },
  {
   "cell_type": "markdown",
   "metadata": {
    "slideshow": {
     "slide_type": "slide"
    }
   },
   "source": [
    "## Comparing Secret Tokens"
   ]
  },
  {
   "cell_type": "markdown",
   "metadata": {
    "slideshow": {
     "slide_type": "slide"
    }
   },
   "source": [
    "### Naive Secrets Comparison"
   ]
  },
  {
   "cell_type": "code",
   "execution_count": 253,
   "metadata": {
    "slideshow": {
     "slide_type": "-"
    }
   },
   "outputs": [
    {
     "data": {
      "text/plain": [
       "False"
      ]
     },
     "execution_count": 253,
     "metadata": {},
     "output_type": "execute_result"
    }
   ],
   "source": [
    "import secrets\n",
    "ADMIN_TOKEN = secrets.token_urlsafe()\n",
    "\n",
    "def is_authorized(token):\n",
    "    return token == ADMIN_TOKEN\n",
    "\n",
    "some_token = secrets.token_urlsafe()\n",
    "is_authorized(some_token)"
   ]
  },
  {
   "cell_type": "markdown",
   "metadata": {
    "slideshow": {
     "slide_type": "notes"
    }
   },
   "source": [
    "Checking if a token you've just received matches one you have generated before\n",
    "looks stright forward, but only on first sight. The operations with a secrets\n",
    "need to be resistant to [timing\n",
    "attacks](https://codahale.com/a-lesson-in-timing-attacks/)."
   ]
  },
  {
   "cell_type": "markdown",
   "metadata": {},
   "source": [
    "> \"Naive Comparison\" is vulnerable to a [timing\n",
    "attack](https://codahale.com/a-lesson-in-timing-attacks/)."
   ]
  },
  {
   "cell_type": "markdown",
   "metadata": {
    "slideshow": {
     "slide_type": "slide"
    }
   },
   "source": [
    "### Timing Attack"
   ]
  },
  {
   "cell_type": "code",
   "execution_count": 254,
   "metadata": {
    "scrolled": true
   },
   "outputs": [
    {
     "name": "stdout",
     "output_type": "stream",
     "text": [
      "0.08322629999020137\n",
      "1.2631584000046132\n"
     ]
    }
   ],
   "source": [
    "import secrets\n",
    "ADMIN_TOKEN = secrets.token_urlsafe()\n",
    "\n",
    "def is_authorized(token):\n",
    "    for i in range(len(token)):\n",
    "        if token[i] != ADMIN_TOKEN[i]:\n",
    "            return False\n",
    "    return True\n",
    "\n",
    "some_token = secrets.token_urlsafe()\n",
    "import timeit\n",
    "\n",
    "print(timeit.Timer(lambda: is_authorized(some_token)).timeit(100000))\n",
    "print(timeit.Timer(lambda: is_authorized(ADMIN_TOKEN)).timeit(100000))"
   ]
  },
  {
   "cell_type": "markdown",
   "metadata": {
    "slideshow": {
     "slide_type": "skip"
    }
   },
   "source": [
    "### TODO: [Lab on timing attack with partial code](https://sqreen.github.io/DevelopersSecurityBestPractices/timing-attack/python)"
   ]
  },
  {
   "cell_type": "markdown",
   "metadata": {
    "slideshow": {
     "slide_type": "slide"
    }
   },
   "source": [
    "### Secure Secrets Comparison"
   ]
  },
  {
   "cell_type": "markdown",
   "metadata": {
    "slideshow": {
     "slide_type": "-"
    }
   },
   "source": [
    "The `secrets.compare_digest(a, b)` do a comparison in a way to reduce a risk of timig attacks:"
   ]
  },
  {
   "cell_type": "code",
   "execution_count": 255,
   "metadata": {
    "slideshow": {
     "slide_type": "-"
    }
   },
   "outputs": [
    {
     "data": {
      "text/plain": [
       "False"
      ]
     },
     "execution_count": 255,
     "metadata": {},
     "output_type": "execute_result"
    }
   ],
   "source": [
    "import secrets\n",
    "ADMIN_TOKEN = secrets.token_urlsafe()\n",
    "\n",
    "def is_authorized(token):\n",
    "    return secrets.compare_digest(token, ADMIN_TOKEN)\n",
    "\n",
    "some_token = secrets.token_urlsafe()\n",
    "is_authorized(some_token)"
   ]
  },
  {
   "cell_type": "markdown",
   "metadata": {
    "slideshow": {
     "slide_type": "slide"
    }
   },
   "source": [
    "### Mitigating Timing Attack"
   ]
  },
  {
   "cell_type": "markdown",
   "metadata": {},
   "source": [
    "Constant time comparison mitigates timing attack"
   ]
  },
  {
   "cell_type": "code",
   "execution_count": 256,
   "metadata": {
    "slideshow": {
     "slide_type": "-"
    }
   },
   "outputs": [
    {
     "name": "stdout",
     "output_type": "stream",
     "text": [
      "0.07532129999890458\n",
      "0.073360499998671\n"
     ]
    }
   ],
   "source": [
    "import secrets\n",
    "ADMIN_TOKEN = secrets.token_urlsafe()\n",
    "\n",
    "def is_authorized(token):\n",
    "    return secrets.compare_digest(token, ADMIN_TOKEN)\n",
    "\n",
    "some_token = secrets.token_urlsafe()\n",
    "import timeit\n",
    "\n",
    "print(timeit.Timer(lambda: is_authorized(some_token)).timeit(100000))\n",
    "print(timeit.Timer(lambda: is_authorized(ADMIN_TOKEN)).timeit(100000))"
   ]
  },
  {
   "cell_type": "markdown",
   "metadata": {
    "slideshow": {
     "slide_type": "slide"
    }
   },
   "source": [
    "## Passwords Management"
   ]
  },
  {
   "cell_type": "markdown",
   "metadata": {
    "slideshow": {
     "slide_type": "slide"
    }
   },
   "source": [
    "### DO NOT Store a Password"
   ]
  },
  {
   "cell_type": "markdown",
   "metadata": {
    "slideshow": {
     "slide_type": "-"
    }
   },
   "source": [
    "> Never store passwords or other secrets in a recoverable format whether it plain\n",
    "or encrypted."
   ]
  },
  {
   "cell_type": "markdown",
   "metadata": {
    "slideshow": {
     "slide_type": "slide"
    }
   },
   "source": [
    "### How to Store a Password? "
   ]
  },
  {
   "cell_type": "markdown",
   "metadata": {
    "slideshow": {
     "slide_type": "-"
    }
   },
   "source": [
    "- Hash passwords before storing\n",
    "- Use special Password Hashing algorithms\n",
    "- Choose secure parameters for password hashing"
   ]
  },
  {
   "cell_type": "code",
   "execution_count": 257,
   "metadata": {
    "slideshow": {
     "slide_type": "-"
    }
   },
   "outputs": [
    {
     "data": {
      "text/plain": [
       "b\"\\x97'@\\xe97(\\x9aQ\\x88(\\xdb\\x86\\xaaO\\x13\\x92\\xc0\\xc0\\xe8\\xa4f.'\\xc2\\xe6'e\\xfc\\xc9P\\x13\\x14\""
      ]
     },
     "execution_count": 257,
     "metadata": {},
     "output_type": "execute_result"
    }
   ],
   "source": [
    "import hashlib, secrets\n",
    "salt = secrets.token_bytes(nbytes=16)\n",
    "hashlib.pbkdf2_hmac(hash_name='sha256', password=b'secretpassword', salt=salt, iterations=10000)"
   ]
  },
  {
   "cell_type": "markdown",
   "metadata": {
    "slideshow": {
     "slide_type": "notes"
    }
   },
   "source": [
    "When storing a passwords think about protecting your storage from brute force\n",
    "attacks. The first consideration is that since brute force attacks require many\n",
    "iterations of guessing a password the password check shoudl be slow enough. And\n",
    "the second consideraion is that similar passwords shoud not look the same.\n",
    "\n",
    "https://cheatsheetseries.owasp.org/cheatsheets/Password_Storage_Cheat_Sheet.html#work-factors\n",
    "PBKDF2 is recommended by NIST and has FIPS-140 validated implementations. So, it should be the preferred algorithm when these are required. Additionally, it is supported out of the box in the .NET framework, so is commonly used in ASP.NET applications.\n",
    "\n",
    "PBKDF2 can be used with HMACs based on a number of different hashing algorithms. HMAC-SHA-256 is widely supported and is recommended by NIST.\n",
    "\n",
    "The work factor for PBKDF2 is implemented through the iteration count, which should be at least 10,000 (although values of up to 100,000 may be appropriate in higher security environments)."
   ]
  },
  {
   "cell_type": "markdown",
   "metadata": {
    "slideshow": {
     "slide_type": "slide"
    }
   },
   "source": [
    "### Hashing vs. Encryption"
   ]
  },
  {
   "cell_type": "markdown",
   "metadata": {
    "slideshow": {
     "slide_type": "-"
    }
   },
   "source": [
    "Hash is a on-way function <= impossible to recover a password.\n",
    "\n",
    "Encryption is a two-way function <= password can be recovered.\n",
    "\n",
    "**Ability to decrypt a password poses a serious security risk.**"
   ]
  },
  {
   "cell_type": "markdown",
   "metadata": {
    "slideshow": {
     "slide_type": "notes"
    }
   },
   "source": [
    "https://cheatsheetseries.owasp.org/cheatsheets/Password_Storage_Cheat_Sheet.html#hashing-vs-encryption\n",
    "In almost all circumstances, passwords should be hashed rather than encrypted, as this makes it difficult or impossible for an attacker to obtain the original passwords from the hashes.\n",
    "\n",
    "Encryption should only be used in edge cases where it is necessary to be able to obtain the original password. Some examples of where this might be necessary are:\n",
    "\n",
    "If the application needs to use the password to authenticate against an external legacy system that doesn't support SSO.\n",
    "If it is necessary to retrieve individual characters from the password."
   ]
  },
  {
   "cell_type": "markdown",
   "metadata": {
    "slideshow": {
     "slide_type": "slide"
    }
   },
   "source": [
    "### Choosing Parameters: Salting"
   ]
  },
  {
   "cell_type": "markdown",
   "metadata": {
    "slideshow": {
     "slide_type": "-"
    }
   },
   "source": [
    "- Salt is a random number, unique per each stored credential\n",
    "- Salt is stored along with password hash\n",
    "- Salting makes hashes for the same passwords different\n",
    "\n",
    "> The salt should be at least 16 bytes"
   ]
  },
  {
   "cell_type": "markdown",
   "metadata": {
    "slideshow": {
     "slide_type": "notes"
    }
   },
   "source": [
    "https://auth0.com/blog/adding-salt-to-hashing-a-better-way-to-store-passwords/#Attacking-Unsalted-Passwords\n",
    "To start, the attacker could try a dictionary attack. Using a pre-arranged listing of words, such as the entries from the English dictionary, with their computed hash, the attacker easily compares the hashes from a stolen passwords table with every hash on the list. If a match is found, the password then can be deduced.\n",
    "\n",
    "https://cheatsheetseries.owasp.org/cheatsheets/Password_Storage_Cheat_Sheet.html#salting\n",
    "Modern hashing algorithms such as Argon2 or Bcrypt automatically salt the passwords, so no additional steps are required when using them. However, if you are using a legacy password hashing algorithm then salting needs to be implemented manually. The basic steps to perform this are:\n",
    "Generate a salt using a cryptographically secure function.\n",
    "The salt should be at least 16 characters long.\n",
    "Encode the salt into a safe character set such as hexadecimal or Base64.\n",
    "Combine the salt with the password.\n",
    "This can be done using simple concatenation, or a construct such as a HMAC.\n",
    "Hash the combined password and salt.\n",
    "Store the salt and the password hash."
   ]
  },
  {
   "cell_type": "markdown",
   "metadata": {
    "slideshow": {
     "slide_type": "slide"
    }
   },
   "source": [
    "### Choosing Parameters: Iterations / Work factor"
   ]
  },
  {
   "cell_type": "markdown",
   "metadata": {
    "slideshow": {
     "slide_type": "-"
    }
   },
   "source": [
    "- iterations = 2 ^ work factor\n",
    "- Multiple iterations of hash function makes computation long <= complicates brute force attacks\n",
    "- Given Mores's law the work factor need to be incremented every 18 months\n",
    "\n",
    "> The PBKDF2 iterations should be at least 10000 (or 100000 for higher security requirements)"
   ]
  },
  {
   "cell_type": "markdown",
   "metadata": {
    "slideshow": {
     "slide_type": "notes"
    }
   },
   "source": [
    "The work factor is essentially the number of iterations of the hashing algorithm that are performed for each password (usually it's actually 2^work iterations). The purpose of the work factor is to make calculating the hash more computationally expensive, which in turn reduces the speed at which an attacker can attempt to crack the password hash. The work factor is typically stored in the hash output.\n",
    "\n",
    "When choosing a work factor, a balance needs to be struck between security and performance. Higher work factors will make the hashes more difficult for an attacker to crack, but will also make the process of verifying a login attempt slower. If the work factor is too high, this may degrade the performance of the application, and could also be used by an attacker to carry out a denial of service attack by making a large number of login attempts to exhaust the server's CPU.\n",
    "\n",
    "There is no golden rule for the ideal work factor - it will depend on the performance of the server and the number of users on the application. Determining the optimal work factor will require experimentation on the specific server(s) used by the application. As a general rule, calculating a hash should take less than one second, although on higher traffic sites it should be significantly less than this.\n",
    "\n",
    "Upgrading the Work Factor¶\n",
    "One key advantage of having a work factor is that it can be increased over time as hardware becomes more powerful and cheaper. Taking Moore's Law (i.e, that computational power at a given price point doubles every eighteen months) as a rough approximation, this means that the work factor should be increased by 1 every eighteen months.\n",
    "\n",
    "The most common approach to upgrading the work factor is to wait until the user next authenticates, and then to re-hash their password with the new work factor. This means that different hashes will have different work factors, and may result in hashes never being upgraded if the user doesn't log back in to the application. Depending on the application, it may be appropriate to remove the older password hashes and require users to reset their passwords next time they need to login, in order to avoid storing older and less secure hashes."
   ]
  }
 ],
 "metadata": {
  "celltoolbar": "Slideshow",
  "kernelspec": {
   "display_name": "Python 3",
   "language": "python",
   "name": "python3"
  },
  "language_info": {
   "codemirror_mode": {
    "name": "ipython",
    "version": 3
   },
   "file_extension": ".py",
   "mimetype": "text/x-python",
   "name": "python",
   "nbconvert_exporter": "python",
   "pygments_lexer": "ipython3",
   "version": "3.7.4"
  },
  "rise": {
   "autolaunch": true,
   "scroll": true
  }
 },
 "nbformat": 4,
 "nbformat_minor": 4
}
