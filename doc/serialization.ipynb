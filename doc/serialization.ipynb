{
 "cells": [
  {
   "cell_type": "markdown",
   "metadata": {
    "slideshow": {
     "slide_type": "slide"
    }
   },
   "source": [
    "# Serialization"
   ]
  },
  {
   "cell_type": "markdown",
   "metadata": {
    "slideshow": {
     "slide_type": "slide"
    }
   },
   "source": [
    "### Insecure Deserialization\n",
    "\n",
    "A vulnerability leads to:\n",
    "- abuse application logic,\n",
    "- deny service, or\n",
    "- execute arbitrary code when an object being deserialized\n",
    "\n",
    "> [CWE-502: Deserialization of Untrusted Data](https://cwe.mitre.org/data/definitions/502.html)"
   ]
  },
  {
   "cell_type": "markdown",
   "metadata": {
    "slideshow": {
     "slide_type": "slide"
    }
   },
   "source": [
    "> Don't compile and run untrusted pull request.<br><br>\n",
    "Don't load pickle files you found on a street."
   ]
  },
  {
   "cell_type": "markdown",
   "metadata": {
    "slideshow": {
     "slide_type": "slide"
    }
   },
   "source": [
    "## Pickle"
   ]
  },
  {
   "cell_type": "markdown",
   "metadata": {
    "slideshow": {
     "slide_type": "slide"
    }
   },
   "source": [
    "### Pickling\n",
    "\n",
    "Preserving for future use.\n",
    "\n",
    "The pickle module implements binary protocols for serializing and de-serializing a Python object structure.\n",
    "\n",
    "Preferred way to serialize python objects."
   ]
  },
  {
   "cell_type": "markdown",
   "metadata": {
    "slideshow": {
     "slide_type": "slide"
    }
   },
   "source": [
    "### Pickling Basics"
   ]
  },
  {
   "cell_type": "code",
   "execution_count": 45,
   "metadata": {},
   "outputs": [
    {
     "name": "stdout",
     "output_type": "stream",
     "text": [
      "b'\\x80\\x04\\x95y\\x00\\x00\\x00\\x00\\x00\\x00\\x00}\\x94(\\x8c\\x01a\\x94]\\x94(K\\x01G@\\x00\\x00\\x00\\x00\\x00\\x00\\x00K\\x03\\x8c\\x08builtins\\x94\\x8c\\x07complex\\x94\\x93\\x94G@\\x10\\x00\\x00\\x00\\x00\\x00\\x00G@\\x18\\x00\\x00\\x00\\x00\\x00\\x00\\x86\\x94R\\x94e\\x8c\\x01b\\x94\\x8c\\x10character string\\x94C\\x0bbyte string\\x94\\x86\\x94\\x8c\\x01c\\x94\\x8f\\x94(\\x89\\x88N\\x90u.'\n"
     ]
    }
   ],
   "source": [
    "import pickle\n",
    "\n",
    "# An arbitrary collection of objects supported by pickle.\n",
    "data = {\n",
    "    'a': [1, 2.0, 3, 4+6j],\n",
    "    'b': (\"character string\", b\"byte string\"),\n",
    "    'c': {None, True, False}\n",
    "}\n",
    "\n",
    "canned_data = pickle.dumps(data)\n",
    "print(canned_data)"
   ]
  },
  {
   "cell_type": "code",
   "execution_count": 46,
   "metadata": {
    "slideshow": {
     "slide_type": "fragment"
    }
   },
   "outputs": [
    {
     "data": {
      "text/plain": [
       "{'a': [1, 2.0, 3, (4+6j)],\n",
       " 'b': ('character string', b'byte string'),\n",
       " 'c': {False, None, True}}"
      ]
     },
     "execution_count": 46,
     "metadata": {},
     "output_type": "execute_result"
    }
   ],
   "source": [
    "pickle.loads(canned_data)"
   ]
  },
  {
   "cell_type": "markdown",
   "metadata": {
    "slideshow": {
     "slide_type": "slide"
    }
   },
   "source": [
    "### Pickle Security\n",
    "\n",
    "`pickle` security warning at docs.python.org:\n",
    "\n",
    "> **Warning:** The pickle module **is not secure**. Only unpickle data you trust.<br><br>\n",
    "It is possible to construct malicious pickle data which will **execute arbitrary code during unpickling**. Never unpickle data that could have come from an untrusted source, or that could have been tampered with."
   ]
  },
  {
   "cell_type": "markdown",
   "metadata": {
    "slideshow": {
     "slide_type": "slide"
    }
   },
   "source": [
    "### Pickle Code Execution\n",
    "\n",
    "Pickle can also handle the module imports and execute functions:"
   ]
  },
  {
   "cell_type": "code",
   "execution_count": 47,
   "metadata": {
    "slideshow": {
     "slide_type": "-"
    }
   },
   "outputs": [
    {
     "name": "stdout",
     "output_type": "stream",
     "text": [
      "hello world\n"
     ]
    }
   ],
   "source": [
    "# This will call OS command `echo hello world`\n",
    "import pickle\n",
    "pickle.loads(b\"cos\\nsystem\\n(S'echo hello world'\\ntR.\")\n",
    "\n",
    "# For demo purposes we have to run the code with\n",
    "# a system interpreter to capture its std output\n",
    "!python ../src/pickle_code_execution.py"
   ]
  },
  {
   "cell_type": "markdown",
   "metadata": {
    "slideshow": {
     "slide_type": "slide"
    }
   },
   "source": [
    "### Secure `pickle` Usage\n",
    "\n",
    "If you brave enough and need to use pickle ensure it comes from trusted source and can't be altered on it's way:\n",
    "\n",
    "1. Encrypted network connection or cryptographic signature\n",
    "2. Strict permissions if loading from disk"
   ]
  },
  {
   "cell_type": "markdown",
   "metadata": {
    "slideshow": {
     "slide_type": "slide"
    }
   },
   "source": [
    "### Signing Serialized Data"
   ]
  },
  {
   "cell_type": "code",
   "execution_count": 48,
   "metadata": {
    "slideshow": {
     "slide_type": "-"
    }
   },
   "outputs": [],
   "source": [
    "import pickle\n",
    "# An arbitrary collection of objects supported by pickle.\n",
    "obj = {\n",
    "    'a': [1, 2.0, 3, 4+6j],\n",
    "    'b': (\"character string\", b\"byte string\"),\n",
    "    'c': {None, True, False}\n",
    "}\n",
    "data = pickle.dumps(obj)"
   ]
  },
  {
   "cell_type": "code",
   "execution_count": 49,
   "metadata": {
    "slideshow": {
     "slide_type": "fragment"
    }
   },
   "outputs": [],
   "source": [
    "# assume both parties agreed on some random secret key for the session\n",
    "import secrets\n",
    "secret_random_key = secrets.token_bytes(32)"
   ]
  },
  {
   "cell_type": "code",
   "execution_count": 50,
   "metadata": {
    "slideshow": {
     "slide_type": "fragment"
    }
   },
   "outputs": [
    {
     "name": "stdout",
     "output_type": "stream",
     "text": [
      "b'\\xe1\\x97\\xa7`$1\\x83\\x1a\\xdd\\x98*\\xcbxO-.\\xb5\\x1e&\\xc2D7\\xfdU\\x17\\xd4\\x07cI*\\xf8\\xf6\\x80\\x04\\x95y\\x00\\x00\\x00\\x00\\x00\\x00\\x00}\\x94(\\x8c\\x01a\\x94]\\x94(K\\x01G@\\x00\\x00\\x00\\x00\\x00\\x00\\x00K\\x03\\x8c\\x08builtins\\x94\\x8c\\x07complex\\x94\\x93\\x94G@\\x10\\x00\\x00\\x00\\x00\\x00\\x00G@\\x18\\x00\\x00\\x00\\x00\\x00\\x00\\x86\\x94R\\x94e\\x8c\\x01b\\x94\\x8c\\x10character string\\x94C\\x0bbyte string\\x94\\x86\\x94\\x8c\\x01c\\x94\\x8f\\x94(\\x89\\x88N\\x90u.'\n"
     ]
    }
   ],
   "source": [
    "# send a pickled data along with its digest\n",
    "import hmac\n",
    "digest = hmac.new(secret_random_key, data, 'sha256').digest()\n",
    "payload = digest + data\n",
    "print(payload)"
   ]
  },
  {
   "cell_type": "code",
   "execution_count": 51,
   "metadata": {
    "slideshow": {
     "slide_type": "fragment"
    }
   },
   "outputs": [
    {
     "data": {
      "text/plain": [
       "{'a': [1, 2.0, 3, (4+6j)],\n",
       " 'b': ('character string', b'byte string'),\n",
       " 'c': {False, None, True}}"
      ]
     },
     "execution_count": 51,
     "metadata": {},
     "output_type": "execute_result"
    }
   ],
   "source": [
    "# recieve the payload and verify the digest before using the data\n",
    "def unpickle_payload(payload):\n",
    "    rcv_digest = payload[:32]\n",
    "    rcv_data = payload[32:]\n",
    "    expected_digest = hmac.new(secret_random_key,\n",
    "                               rcv_data,\n",
    "                               'sha256').digest()\n",
    "    if not secrets.compare_digest(rcv_digest, expected_digest):\n",
    "        raise ValueError('Integrity check failed')\n",
    "    return pickle.loads(rcv_data)\n",
    "\n",
    "unpickle_payload(payload)"
   ]
  },
  {
   "cell_type": "code",
   "execution_count": 52,
   "metadata": {
    "scrolled": true,
    "slideshow": {
     "slide_type": "fragment"
    }
   },
   "outputs": [
    {
     "ename": "ValueError",
     "evalue": "Integrity check failed",
     "output_type": "error",
     "traceback": [
      "\u001b[1;31m---------------------------------------------------------------------------\u001b[0m",
      "\u001b[1;31mValueError\u001b[0m                                Traceback (most recent call last)",
      "Input \u001b[1;32mIn [52]\u001b[0m, in \u001b[0;36m<cell line: 2>\u001b[1;34m()\u001b[0m\n\u001b[0;32m      1\u001b[0m \u001b[38;5;66;03m# check if unauthorized modification detected\u001b[39;00m\n\u001b[1;32m----> 2\u001b[0m \u001b[43munpickle_payload\u001b[49m\u001b[43m(\u001b[49m\u001b[43mpayload\u001b[49m\u001b[43m \u001b[49m\u001b[38;5;241;43m+\u001b[39;49m\u001b[43m \u001b[49m\u001b[38;5;124;43mb\u001b[39;49m\u001b[38;5;124;43m'\u001b[39;49m\u001b[38;5;124;43mhack\u001b[39;49m\u001b[38;5;124;43m'\u001b[39;49m\u001b[43m)\u001b[49m\n",
      "Input \u001b[1;32mIn [51]\u001b[0m, in \u001b[0;36munpickle_payload\u001b[1;34m(payload)\u001b[0m\n\u001b[0;32m      5\u001b[0m expected_digest \u001b[38;5;241m=\u001b[39m hmac\u001b[38;5;241m.\u001b[39mnew(secret_random_key,\n\u001b[0;32m      6\u001b[0m                            rcv_data,\n\u001b[0;32m      7\u001b[0m                            \u001b[38;5;124m'\u001b[39m\u001b[38;5;124msha256\u001b[39m\u001b[38;5;124m'\u001b[39m)\u001b[38;5;241m.\u001b[39mdigest()\n\u001b[0;32m      8\u001b[0m \u001b[38;5;28;01mif\u001b[39;00m \u001b[38;5;129;01mnot\u001b[39;00m secrets\u001b[38;5;241m.\u001b[39mcompare_digest(rcv_digest, expected_digest):\n\u001b[1;32m----> 9\u001b[0m     \u001b[38;5;28;01mraise\u001b[39;00m \u001b[38;5;167;01mValueError\u001b[39;00m(\u001b[38;5;124m'\u001b[39m\u001b[38;5;124mIntegrity check failed\u001b[39m\u001b[38;5;124m'\u001b[39m)\n\u001b[0;32m     10\u001b[0m \u001b[38;5;28;01mreturn\u001b[39;00m pickle\u001b[38;5;241m.\u001b[39mloads(rcv_data)\n",
      "\u001b[1;31mValueError\u001b[0m: Integrity check failed"
     ]
    }
   ],
   "source": [
    "# check if unauthorized modification detected\n",
    "unpickle_payload(payload + b'hack')"
   ]
  },
  {
   "cell_type": "markdown",
   "metadata": {
    "slideshow": {
     "slide_type": "slide"
    }
   },
   "source": [
    "### Restricted Unpickler\n",
    "\n",
    "Limit unpickler to 'safe' objects to mitigate risk of code execution.\n",
    "\n",
    "> Restricted unpickler does not mitigate all security risks with `pickle.load()`."
   ]
  },
  {
   "cell_type": "markdown",
   "metadata": {
    "slideshow": {
     "slide_type": "notes"
    }
   },
   "source": [
    "\n",
    "At the end whis will not protect you. Dedicated hacker can always find a way.\n",
    "Avoid using pickle. Consider JSON or protobuf as secure alternatives.\n",
    "\n",
    "[python-can-i-safely-unpickle-untrusted-data](https://stackoverflow.com/questions/25353753/python-can-i-safely-unpickle-untrusted-data)\n",
    "\n",
    "[reverse enginnering pickle](https://hackmd.io/@2KUYNtTcQ7WRyTsBT7oePg/BycZwjKNX?print-pdf#/)"
   ]
  },
  {
   "cell_type": "code",
   "execution_count": 53,
   "metadata": {
    "slideshow": {
     "slide_type": "fragment"
    }
   },
   "outputs": [],
   "source": [
    "import builtins\n",
    "import pickle\n",
    "\n",
    "safe_builtins = {\n",
    "    'range',\n",
    "    'complex',\n",
    "    'set',\n",
    "    'frozenset',\n",
    "    'slice',\n",
    "}\n",
    "\n",
    "class RestrictedUnpickler(pickle.Unpickler):\n",
    "\n",
    "    def find_class(self, module, name):\n",
    "        # Only allow safe classes from builtins.\n",
    "        if module == \"builtins\" and name in safe_builtins:\n",
    "            return getattr(builtins, name)\n",
    "        # Forbid everything else.\n",
    "        raise pickle.UnpicklingError(\"global '%s.%s' is forbidden\" %\n",
    "                                     (module, name))"
   ]
  },
  {
   "cell_type": "code",
   "execution_count": 54,
   "metadata": {
    "slideshow": {
     "slide_type": "fragment"
    }
   },
   "outputs": [],
   "source": [
    "import io\n",
    "def restricted_loads(s):\n",
    "    \"\"\"Helper function analogous to pickle.loads().\"\"\"\n",
    "    return RestrictedUnpickler(io.BytesIO(s)).load()"
   ]
  },
  {
   "cell_type": "code",
   "execution_count": 55,
   "metadata": {
    "slideshow": {
     "slide_type": "fragment"
    }
   },
   "outputs": [
    {
     "data": {
      "text/plain": [
       "{'a': [1, 2.0, 3, (4+6j)],\n",
       " 'b': ('character string', b'byte string'),\n",
       " 'c': {False, None, True}}"
      ]
     },
     "execution_count": 55,
     "metadata": {},
     "output_type": "execute_result"
    }
   ],
   "source": [
    "# try loading builtins ony\n",
    "obj = {\n",
    "    'a': [1, 2.0, 3, 4+6j],\n",
    "    'b': (\"character string\", b\"byte string\"),\n",
    "    'c': {None, True, False}\n",
    "}\n",
    "\n",
    "restricted_loads(pickle.dumps(obj))"
   ]
  },
  {
   "cell_type": "code",
   "execution_count": 56,
   "metadata": {
    "scrolled": true,
    "slideshow": {
     "slide_type": "fragment"
    }
   },
   "outputs": [
    {
     "ename": "UnpicklingError",
     "evalue": "global 'os.system' is forbidden",
     "output_type": "error",
     "traceback": [
      "\u001b[1;31m---------------------------------------------------------------------------\u001b[0m",
      "\u001b[1;31mUnpicklingError\u001b[0m                           Traceback (most recent call last)",
      "Input \u001b[1;32mIn [56]\u001b[0m, in \u001b[0;36m<cell line: 2>\u001b[1;34m()\u001b[0m\n\u001b[0;32m      1\u001b[0m \u001b[38;5;66;03m# try loading dangerous code\u001b[39;00m\n\u001b[1;32m----> 2\u001b[0m \u001b[43mrestricted_loads\u001b[49m\u001b[43m(\u001b[49m\u001b[38;5;124;43mb\u001b[39;49m\u001b[38;5;124;43m\"\u001b[39;49m\u001b[38;5;124;43mcos\u001b[39;49m\u001b[38;5;130;43;01m\\n\u001b[39;49;00m\u001b[38;5;124;43msystem\u001b[39;49m\u001b[38;5;130;43;01m\\n\u001b[39;49;00m\u001b[38;5;124;43m(S\u001b[39;49m\u001b[38;5;124;43m'\u001b[39;49m\u001b[38;5;124;43mecho hello world\u001b[39;49m\u001b[38;5;124;43m'\u001b[39;49m\u001b[38;5;130;43;01m\\n\u001b[39;49;00m\u001b[38;5;124;43mtR.\u001b[39;49m\u001b[38;5;124;43m\"\u001b[39;49m\u001b[43m)\u001b[49m\n",
      "Input \u001b[1;32mIn [54]\u001b[0m, in \u001b[0;36mrestricted_loads\u001b[1;34m(s)\u001b[0m\n\u001b[0;32m      2\u001b[0m \u001b[38;5;28;01mdef\u001b[39;00m \u001b[38;5;21mrestricted_loads\u001b[39m(s):\n\u001b[0;32m      3\u001b[0m     \u001b[38;5;124;03m\"\"\"Helper function analogous to pickle.loads().\"\"\"\u001b[39;00m\n\u001b[1;32m----> 4\u001b[0m     \u001b[38;5;28;01mreturn\u001b[39;00m \u001b[43mRestrictedUnpickler\u001b[49m\u001b[43m(\u001b[49m\u001b[43mio\u001b[49m\u001b[38;5;241;43m.\u001b[39;49m\u001b[43mBytesIO\u001b[49m\u001b[43m(\u001b[49m\u001b[43ms\u001b[49m\u001b[43m)\u001b[49m\u001b[43m)\u001b[49m\u001b[38;5;241;43m.\u001b[39;49m\u001b[43mload\u001b[49m\u001b[43m(\u001b[49m\u001b[43m)\u001b[49m\n",
      "Input \u001b[1;32mIn [53]\u001b[0m, in \u001b[0;36mRestrictedUnpickler.find_class\u001b[1;34m(self, module, name)\u001b[0m\n\u001b[0;32m     17\u001b[0m     \u001b[38;5;28;01mreturn\u001b[39;00m \u001b[38;5;28mgetattr\u001b[39m(builtins, name)\n\u001b[0;32m     18\u001b[0m \u001b[38;5;66;03m# Forbid everything else.\u001b[39;00m\n\u001b[1;32m---> 19\u001b[0m \u001b[38;5;28;01mraise\u001b[39;00m pickle\u001b[38;5;241m.\u001b[39mUnpicklingError(\u001b[38;5;124m\"\u001b[39m\u001b[38;5;124mglobal \u001b[39m\u001b[38;5;124m'\u001b[39m\u001b[38;5;132;01m%s\u001b[39;00m\u001b[38;5;124m.\u001b[39m\u001b[38;5;132;01m%s\u001b[39;00m\u001b[38;5;124m'\u001b[39m\u001b[38;5;124m is forbidden\u001b[39m\u001b[38;5;124m\"\u001b[39m \u001b[38;5;241m%\u001b[39m\n\u001b[0;32m     20\u001b[0m                              (module, name))\n",
      "\u001b[1;31mUnpicklingError\u001b[0m: global 'os.system' is forbidden"
     ]
    }
   ],
   "source": [
    "# try loading dangerous code\n",
    "restricted_loads(b\"cos\\nsystem\\n(S'echo hello world'\\ntR.\")"
   ]
  },
  {
   "cell_type": "markdown",
   "metadata": {
    "slideshow": {
     "slide_type": "slide"
    }
   },
   "source": [
    "### Numpy Loading\n",
    "\n",
    "Numpy is vulnerable to remote code execution when loading arrays of objects.\n",
    "\n",
    "Prefer using `allow_pickle=False` when saving and loading in numpy."
   ]
  },
  {
   "cell_type": "code",
   "execution_count": 57,
   "metadata": {
    "slideshow": {
     "slide_type": "fragment"
    }
   },
   "outputs": [
    {
     "name": "stdout",
     "output_type": "stream",
     "text": [
      "[0 1 2 3 4 5 6 7 8 9]\n"
     ]
    }
   ],
   "source": [
    "import numpy\n",
    "\n",
    "import io\n",
    "outfile = io.BytesIO()\n",
    "\n",
    "numpy.save(outfile, numpy.arange(10), allow_pickle=False)\n",
    "_ = outfile.seek(0) # Only needed here to simulate closing & reopening file\n",
    "print(numpy.load(outfile, allow_pickle=False))"
   ]
  },
  {
   "cell_type": "markdown",
   "metadata": {
    "slideshow": {
     "slide_type": "slide"
    }
   },
   "source": [
    "### Demo CVE-2019-6446 Exploit"
   ]
  },
  {
   "cell_type": "markdown",
   "metadata": {
    "slideshow": {
     "slide_type": "-"
    }
   },
   "source": [
    "allow_pickle is True by default before numpy version 1.16.3:"
   ]
  },
  {
   "cell_type": "code",
   "execution_count": 58,
   "metadata": {
    "slideshow": {
     "slide_type": "-"
    }
   },
   "outputs": [
    {
     "name": "stdout",
     "output_type": "stream",
     "text": [
      "System commmand executed\n"
     ]
    }
   ],
   "source": [
    "# CVE-2019-6446 exploit\n",
    "import numpy\n",
    "import io\n",
    "import pickle\n",
    "import os\n",
    "\n",
    "class Test(object):\n",
    "    def __init__(self):\n",
    "        self.a = 1\n",
    "\n",
    "    def __reduce__(self):        \n",
    "        return (os.system,('echo System commmand executed',))\n",
    "malicious_object = Test()\n",
    "\n",
    "# Create npy file in memory from plain picke\n",
    "npy_bytes = io.BytesIO(pickle.dumps(malicious_object))\n",
    "# This line execute OS command `echo` embedded into numpy file\n",
    "numpy.load(npy_bytes, allow_pickle=True)\n",
    "\n",
    "# For demo purposes we have to run the code with\n",
    "# a system interpreter to capture its std output\n",
    "!python ../src/numpy_exploit.py"
   ]
  },
  {
   "cell_type": "markdown",
   "metadata": {
    "slideshow": {
     "slide_type": "notes"
    }
   },
   "source": [
    "The `__reduce__()` method takes no argument and shall return either a string or preferably a tuple (the returned object is often referred to as the \"reduce value\"). ... When a tuple is returned, it must be between two and six items long. Optional items can either be omitted, or None can be provided as their value. The semantics of each item are in order:\n",
    "\n",
    "A callable object that will be called to create the initial version of the object.\n",
    "A tuple of arguments for the callable object. An empty tuple must be given if the callable does not accept any argument. ...\n",
    "https://davidhamann.de/2020/04/05/exploiting-python-pickle/"
   ]
  },
  {
   "cell_type": "markdown",
   "metadata": {
    "slideshow": {
     "slide_type": "slide"
    }
   },
   "source": [
    "## Yaml"
   ]
  },
  {
   "cell_type": "markdown",
   "metadata": {
    "slideshow": {
     "slide_type": "slide"
    }
   },
   "source": [
    "### What is YAML?\n",
    "\n",
    "Yaml is data serialization format.\n",
    "\n",
    "It provides a simple reading and editing in plain text, thus frequiently used as a format for various configuration files."
   ]
  },
  {
   "cell_type": "markdown",
   "metadata": {
    "slideshow": {
     "slide_type": "slide"
    }
   },
   "source": [
    "### Yaml vs. JSON:"
   ]
  },
  {
   "cell_type": "markdown",
   "metadata": {
    "cell_style": "split",
    "slideshow": {
     "slide_type": "-"
    }
   },
   "source": [
    "Yaml:\n",
    "\n",
    "``` yaml\n",
    "klocwork_linux:\n",
    "  os:\n",
    "    ubuntu18\n",
    "klocwork_win:\n",
    "  os:\n",
    "    windows\n",
    "```"
   ]
  },
  {
   "cell_type": "markdown",
   "metadata": {
    "cell_style": "split",
    "slideshow": {
     "slide_type": "-"
    }
   },
   "source": [
    "JSON:\n",
    "\n",
    "```javascript\n",
    "{\n",
    "  \"klocwork_linux\": {\n",
    "    \"os\": \"ubuntu18\"\n",
    "  },\n",
    "  \"klocwork_win\": {\n",
    "    \"os\": \"windows\"\n",
    "  }\n",
    "}\n",
    "```"
   ]
  },
  {
   "cell_type": "markdown",
   "metadata": {
    "slideshow": {
     "slide_type": "skip"
    }
   },
   "source": [
    "TODO: basic types\n",
    "\n",
    "TODO: advanced python types"
   ]
  },
  {
   "cell_type": "markdown",
   "metadata": {
    "slideshow": {
     "slide_type": "slide"
    }
   },
   "source": [
    "### Yaml Safe Loading\n",
    "\n",
    "`yaml.load()` is as powerfull as `pickle.load()`.\n",
    "\n",
    "Prefer using `yaml.safe_load()` and `yaml.safe_dump()` when loading and saving yaml files."
   ]
  },
  {
   "cell_type": "markdown",
   "metadata": {
    "slideshow": {
     "slide_type": "notes"
    }
   },
   "source": [
    "Yaml can construct arbitray python objects and `yaml.safe_load()` limits this to\n",
    "simple Python objects like lists and integers."
   ]
  },
  {
   "cell_type": "code",
   "execution_count": 59,
   "metadata": {
    "slideshow": {
     "slide_type": "-"
    }
   },
   "outputs": [
    {
     "data": {
      "text/plain": [
       "{'a': 1}"
      ]
     },
     "execution_count": 59,
     "metadata": {},
     "output_type": "execute_result"
    }
   ],
   "source": [
    "import yaml\n",
    "text = yaml.safe_dump({'a':1})\n",
    "yaml.safe_load(text)"
   ]
  },
  {
   "cell_type": "markdown",
   "metadata": {
    "slideshow": {
     "slide_type": "slide"
    }
   },
   "source": [
    "### Yaml Code Execution"
   ]
  },
  {
   "cell_type": "markdown",
   "metadata": {
    "slideshow": {
     "slide_type": "-"
    }
   },
   "source": [
    "Latest pyyaml have most of the issues hidden under yaml.UnsafeLoader. "
   ]
  },
  {
   "cell_type": "code",
   "execution_count": 60,
   "metadata": {},
   "outputs": [
    {
     "name": "stdout",
     "output_type": "stream",
     "text": [
      "EXPLOIT!\n"
     ]
    }
   ],
   "source": [
    "import yaml\n",
    "data = b\"\"\"!!python/object/new:os.system [echo EXPLOIT!]\"\"\"\n",
    "# This line execute OS command `echo` embedded into yaml file\n",
    "deserialized_data = yaml.load(data, Loader=yaml.UnsafeLoader)\n",
    "\n",
    "# For demo purposes we have to run the code with\n",
    "# a system interpreter to capture its std output\n",
    "!python ../src/yaml_code_execution.py"
   ]
  },
  {
   "cell_type": "markdown",
   "metadata": {
    "slideshow": {
     "slide_type": "slide"
    }
   },
   "source": [
    "### Useful Links\n",
    "\n",
    "https://cheatsheetseries.owasp.org/cheatsheets/Deserialization_Cheat_Sheet.html - OWASP Deserialization Cheat Sheet"
   ]
  }
 ],
 "metadata": {
  "celltoolbar": "Slideshow",
  "kernelspec": {
   "display_name": "Python 3 (ipykernel)",
   "language": "python",
   "name": "python3"
  },
  "language_info": {
   "codemirror_mode": {
    "name": "ipython",
    "version": 3
   },
   "file_extension": ".py",
   "mimetype": "text/x-python",
   "name": "python",
   "nbconvert_exporter": "python",
   "pygments_lexer": "ipython3",
   "version": "3.10.6"
  },
  "rise": {
   "autolaunch": true,
   "scroll": true
  }
 },
 "nbformat": 4,
 "nbformat_minor": 4
}
