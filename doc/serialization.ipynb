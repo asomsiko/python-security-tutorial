{
 "cells": [
  {
   "cell_type": "markdown",
   "metadata": {
    "slideshow": {
     "slide_type": "slide"
    }
   },
   "source": [
    "# Serialization"
   ]
  },
  {
   "cell_type": "markdown",
   "metadata": {
    "slideshow": {
     "slide_type": "slide"
    }
   },
   "source": [
    "### Insecure Deserialization\n",
    "\n",
    "A vulnerability leads to:\n",
    "- abuse application logic,\n",
    "- deny service, or\n",
    "- execute arbitrary code when an object being deserialized\n",
    "\n",
    "> [CWE-502: Deserialization of Untrusted Data](https://cwe.mitre.org/data/definitions/502.html)"
   ]
  },
  {
   "cell_type": "markdown",
   "metadata": {
    "slideshow": {
     "slide_type": "slide"
    }
   },
   "source": [
    "> Don't compile and run untrusted pull request.<br>\n",
    "Don't load pickle files you found on a street."
   ]
  },
  {
   "cell_type": "markdown",
   "metadata": {
    "slideshow": {
     "slide_type": "slide"
    }
   },
   "source": [
    "## Pickle"
   ]
  },
  {
   "cell_type": "markdown",
   "metadata": {
    "slideshow": {
     "slide_type": "slide"
    }
   },
   "source": [
    "### Pickling\n",
    "\n",
    "The pickle module implements binary protocols for serializing and de-serializing a Python object structure.\n",
    "\n",
    "Preferred way to serializa python objects."
   ]
  },
  {
   "cell_type": "markdown",
   "metadata": {
    "slideshow": {
     "slide_type": "slide"
    }
   },
   "source": [
    "### Pickling Basics"
   ]
  },
  {
   "cell_type": "code",
   "execution_count": 102,
   "metadata": {},
   "outputs": [
    {
     "name": "stdout",
     "output_type": "stream",
     "text": [
      "b'\\x80\\x03}q\\x00(X\\x01\\x00\\x00\\x00aq\\x01]q\\x02(K\\x01G@\\x00\\x00\\x00\\x00\\x00\\x00\\x00K\\x03cbuiltins\\ncomplex\\nq\\x03G@\\x10\\x00\\x00\\x00\\x00\\x00\\x00G@\\x18\\x00\\x00\\x00\\x00\\x00\\x00\\x86q\\x04Rq\\x05eX\\x01\\x00\\x00\\x00bq\\x06X\\x10\\x00\\x00\\x00character stringq\\x07C\\x0bbyte stringq\\x08\\x86q\\tX\\x01\\x00\\x00\\x00cq\\ncbuiltins\\nset\\nq\\x0b]q\\x0c(\\x89\\x88Ne\\x85q\\rRq\\x0eu.'\n"
     ]
    }
   ],
   "source": [
    "import pickle\n",
    "\n",
    "# An arbitrary collection of objects supported by pickle.\n",
    "data = {\n",
    "    'a': [1, 2.0, 3, 4+6j],\n",
    "    'b': (\"character string\", b\"byte string\"),\n",
    "    'c': {None, True, False}\n",
    "}\n",
    "\n",
    "canned_data = pickle.dumps(data)\n",
    "print(canned_data)"
   ]
  },
  {
   "cell_type": "code",
   "execution_count": 103,
   "metadata": {
    "slideshow": {
     "slide_type": "fragment"
    }
   },
   "outputs": [
    {
     "data": {
      "text/plain": [
       "{'a': [1, 2.0, 3, (4+6j)],\n",
       " 'b': ('character string', b'byte string'),\n",
       " 'c': {False, None, True}}"
      ]
     },
     "execution_count": 103,
     "metadata": {},
     "output_type": "execute_result"
    }
   ],
   "source": [
    "pickle.loads(canned_data)"
   ]
  },
  {
   "cell_type": "markdown",
   "metadata": {
    "slideshow": {
     "slide_type": "slide"
    }
   },
   "source": [
    "### Pickle Security\n",
    "\n",
    "`pickle` security warning at docs.python.org:\n",
    "\n",
    "> **Warning:** The pickle module **is not secure**. Only unpickle data you trust.<br><br>\n",
    "It is possible to construct malicious pickle data which will **execute arbitrary code during unpickling**. Never unpickle data that could have come from an untrusted source, or that could have been tampered with."
   ]
  },
  {
   "cell_type": "markdown",
   "metadata": {
    "slideshow": {
     "slide_type": "slide"
    }
   },
   "source": [
    "### Pickle Code Execution\n",
    "\n",
    "Pickle can also handle the module imports and execute functions:\n",
    "\n",
    "``` python\n",
    "import pickle\n",
    "pickle.loads(b\"cos\\nsystem\\n(S'echo hello world'\\ntR.\")\n",
    "```\n",
    "This will call OS `echo hello world`:\n",
    "``` bash\n",
    "$ python pickle_system.py\n",
    "hello world\n",
    "```"
   ]
  },
  {
   "cell_type": "markdown",
   "metadata": {
    "slideshow": {
     "slide_type": "slide"
    }
   },
   "source": [
    "### Secure `pickle` Usage\n",
    "\n",
    "If you brave enough and need to use pickle here some techniques can reduce\n",
    "security risks:\n",
    "\n",
    "1. When loading from disk ensure strict permissions\n",
    "\n",
    "2. When loading from network use cryptographic signature"
   ]
  },
  {
   "cell_type": "markdown",
   "metadata": {
    "slideshow": {
     "slide_type": "slide"
    }
   },
   "source": [
    "### Signing Serialized Data"
   ]
  },
  {
   "cell_type": "code",
   "execution_count": 104,
   "metadata": {
    "slideshow": {
     "slide_type": "-"
    }
   },
   "outputs": [],
   "source": [
    "# pickle come complex object\n",
    "import pickle\n",
    "data = pickle.dumps({'a': [1, 2.0, 3, (4+6j)], 'b': ('character string', b'byte string')})"
   ]
  },
  {
   "cell_type": "code",
   "execution_count": 105,
   "metadata": {
    "slideshow": {
     "slide_type": "fragment"
    }
   },
   "outputs": [],
   "source": [
    "# assume both parties agreed on some random secret key for the session\n",
    "import secrets\n",
    "secret_random_key = secrets.token_bytes(32)"
   ]
  },
  {
   "cell_type": "code",
   "execution_count": 106,
   "metadata": {
    "slideshow": {
     "slide_type": "fragment"
    }
   },
   "outputs": [
    {
     "name": "stdout",
     "output_type": "stream",
     "text": [
      "b'R\\r\\x06\\x90\\xdav5\\x04\\xf9\\x98.\\xd5\\x8d\\xcd-\\x9e\\xf3@A\\xd9:A\\xbfB\\xe3\\x0e_\\x03M50\\x83\\x80\\x03}q\\x00(X\\x01\\x00\\x00\\x00aq\\x01]q\\x02(K\\x01G@\\x00\\x00\\x00\\x00\\x00\\x00\\x00K\\x03cbuiltins\\ncomplex\\nq\\x03G@\\x10\\x00\\x00\\x00\\x00\\x00\\x00G@\\x18\\x00\\x00\\x00\\x00\\x00\\x00\\x86q\\x04Rq\\x05eX\\x01\\x00\\x00\\x00bq\\x06X\\x10\\x00\\x00\\x00character stringq\\x07C\\x0bbyte stringq\\x08\\x86q\\tu.'\n"
     ]
    }
   ],
   "source": [
    "# send a pickled data along with its digest\n",
    "import hmac\n",
    "digest = hmac.new(secret_random_key, data, 'sha256').digest()\n",
    "payload = digest + data\n",
    "print(payload)"
   ]
  },
  {
   "cell_type": "code",
   "execution_count": 107,
   "metadata": {
    "slideshow": {
     "slide_type": "fragment"
    }
   },
   "outputs": [
    {
     "name": "stdout",
     "output_type": "stream",
     "text": [
      "{'a': [1, 2.0, 3, (4+6j)], 'b': ('character string', b'byte string')}\n"
     ]
    }
   ],
   "source": [
    "# recieve the payload and verify the digest before using the data\n",
    "def unpickle_payload(payload):\n",
    "    rcv_digest = payload[:32]\n",
    "    rcv_data = payload[32:]\n",
    "    expected_digest = hmac.new(secret_random_key, rcv_data, 'sha256').digest()\n",
    "    if not secrets.compare_digest(rcv_digest, expected_digest):\n",
    "        raise Exception('Integrity check failed')\n",
    "    return pickle.loads(rcv_data)\n",
    "\n",
    "objects = unpickle_payload(payload)\n",
    "print(objects)"
   ]
  },
  {
   "cell_type": "code",
   "execution_count": 108,
   "metadata": {
    "slideshow": {
     "slide_type": "fragment"
    }
   },
   "outputs": [
    {
     "ename": "Exception",
     "evalue": "Integrity check failed",
     "output_type": "error",
     "traceback": [
      "\u001b[1;31m---------------------------------------------------------------------------\u001b[0m",
      "\u001b[1;31mException\u001b[0m                                 Traceback (most recent call last)",
      "\u001b[1;32m<ipython-input-108-0feab58f67aa>\u001b[0m in \u001b[0;36m<module>\u001b[1;34m\u001b[0m\n\u001b[0;32m      1\u001b[0m \u001b[1;31m# check if unauthorized modification detected\u001b[0m\u001b[1;33m\u001b[0m\u001b[1;33m\u001b[0m\u001b[1;33m\u001b[0m\u001b[0m\n\u001b[1;32m----> 2\u001b[1;33m \u001b[0munpickle_payload\u001b[0m\u001b[1;33m(\u001b[0m\u001b[0mpayload\u001b[0m \u001b[1;33m+\u001b[0m \u001b[1;34mb'hack'\u001b[0m\u001b[1;33m)\u001b[0m\u001b[1;33m\u001b[0m\u001b[1;33m\u001b[0m\u001b[0m\n\u001b[0m",
      "\u001b[1;32m<ipython-input-107-74635672fc87>\u001b[0m in \u001b[0;36munpickle_payload\u001b[1;34m(payload)\u001b[0m\n\u001b[0;32m      5\u001b[0m     \u001b[0mexpected_digest\u001b[0m \u001b[1;33m=\u001b[0m \u001b[0mhmac\u001b[0m\u001b[1;33m.\u001b[0m\u001b[0mnew\u001b[0m\u001b[1;33m(\u001b[0m\u001b[0msecret_random_key\u001b[0m\u001b[1;33m,\u001b[0m \u001b[0mrcv_data\u001b[0m\u001b[1;33m,\u001b[0m \u001b[1;34m'sha256'\u001b[0m\u001b[1;33m)\u001b[0m\u001b[1;33m.\u001b[0m\u001b[0mdigest\u001b[0m\u001b[1;33m(\u001b[0m\u001b[1;33m)\u001b[0m\u001b[1;33m\u001b[0m\u001b[1;33m\u001b[0m\u001b[0m\n\u001b[0;32m      6\u001b[0m     \u001b[1;32mif\u001b[0m \u001b[1;32mnot\u001b[0m \u001b[0msecrets\u001b[0m\u001b[1;33m.\u001b[0m\u001b[0mcompare_digest\u001b[0m\u001b[1;33m(\u001b[0m\u001b[0mrcv_digest\u001b[0m\u001b[1;33m,\u001b[0m \u001b[0mexpected_digest\u001b[0m\u001b[1;33m)\u001b[0m\u001b[1;33m:\u001b[0m\u001b[1;33m\u001b[0m\u001b[1;33m\u001b[0m\u001b[0m\n\u001b[1;32m----> 7\u001b[1;33m         \u001b[1;32mraise\u001b[0m \u001b[0mException\u001b[0m\u001b[1;33m(\u001b[0m\u001b[1;34m'Integrity check failed'\u001b[0m\u001b[1;33m)\u001b[0m\u001b[1;33m\u001b[0m\u001b[1;33m\u001b[0m\u001b[0m\n\u001b[0m\u001b[0;32m      8\u001b[0m     \u001b[1;32mreturn\u001b[0m \u001b[0mpickle\u001b[0m\u001b[1;33m.\u001b[0m\u001b[0mloads\u001b[0m\u001b[1;33m(\u001b[0m\u001b[0mrcv_data\u001b[0m\u001b[1;33m)\u001b[0m\u001b[1;33m\u001b[0m\u001b[1;33m\u001b[0m\u001b[0m\n\u001b[0;32m      9\u001b[0m \u001b[1;33m\u001b[0m\u001b[0m\n",
      "\u001b[1;31mException\u001b[0m: Integrity check failed"
     ]
    }
   ],
   "source": [
    "# check if unauthorized modification detected\n",
    "unpickle_payload(payload + b'hack')"
   ]
  },
  {
   "cell_type": "markdown",
   "metadata": {
    "slideshow": {
     "slide_type": "slide"
    }
   },
   "source": [
    "### Restricted Unpickler\n",
    "\n",
    "Limit unpickler to 'safe' objects to mitigate risk of code execution.\n",
    "\n",
    "> Restricted unpickler does not mitigate all security risks with `pickle.load()`."
   ]
  },
  {
   "cell_type": "markdown",
   "metadata": {
    "slideshow": {
     "slide_type": "notes"
    }
   },
   "source": [
    "\n",
    "At the end whis will not protect you. Dedicated hacker can always find a way.\n",
    "Avoid using pickle. Consider JSON or protobuf as secure alternatives.\n",
    "\n",
    "[python-can-i-safely-unpickle-untrusted-data](https://stackoverflow.com/questions/25353753/python-can-i-safely-unpickle-untrusted-data)\n",
    "\n",
    "[reverse enginnering pickle](https://hackmd.io/@2KUYNtTcQ7WRyTsBT7oePg/BycZwjKNX?print-pdf#/)"
   ]
  },
  {
   "cell_type": "code",
   "execution_count": 111,
   "metadata": {
    "slideshow": {
     "slide_type": "fragment"
    }
   },
   "outputs": [],
   "source": [
    "import builtins\n",
    "import pickle\n",
    "\n",
    "safe_builtins = {\n",
    "    'range',\n",
    "    'complex',\n",
    "    'set',\n",
    "    'frozenset',\n",
    "    'slice',\n",
    "}\n",
    "\n",
    "class RestrictedUnpickler(pickle.Unpickler):\n",
    "\n",
    "    def find_class(self, module, name):\n",
    "        # Only allow safe classes from builtins.\n",
    "        if module == \"builtins\" and name in safe_builtins:\n",
    "            return getattr(builtins, name)\n",
    "        # Forbid everything else.\n",
    "        raise pickle.UnpicklingError(\"global '%s.%s' is forbidden\" %\n",
    "                                     (module, name))"
   ]
  },
  {
   "cell_type": "code",
   "execution_count": 110,
   "metadata": {
    "slideshow": {
     "slide_type": "fragment"
    }
   },
   "outputs": [],
   "source": [
    "import io\n",
    "def restricted_loads(s):\n",
    "    \"\"\"Helper function analogous to pickle.loads().\"\"\"\n",
    "    return RestrictedUnpickler(io.BytesIO(s)).load()"
   ]
  },
  {
   "cell_type": "code",
   "execution_count": 112,
   "metadata": {
    "slideshow": {
     "slide_type": "fragment"
    }
   },
   "outputs": [
    {
     "data": {
      "text/plain": [
       "{'a': [1, 2.0, 3, (4+6j)], 'b': ('character string', b'byte string')}"
      ]
     },
     "execution_count": 112,
     "metadata": {},
     "output_type": "execute_result"
    }
   ],
   "source": [
    "# try loading builtins\n",
    "restricted_loads(pickle.dumps({'a': [1, 2.0, 3, (4+6j)], 'b': ('character string', b'byte string')}))"
   ]
  },
  {
   "cell_type": "code",
   "execution_count": 113,
   "metadata": {
    "slideshow": {
     "slide_type": "fragment"
    }
   },
   "outputs": [
    {
     "ename": "UnpicklingError",
     "evalue": "global 'os.system' is forbidden",
     "output_type": "error",
     "traceback": [
      "\u001b[1;31m---------------------------------------------------------------------------\u001b[0m",
      "\u001b[1;31mUnpicklingError\u001b[0m                           Traceback (most recent call last)",
      "\u001b[1;32m<ipython-input-113-07c62f1f729f>\u001b[0m in \u001b[0;36m<module>\u001b[1;34m\u001b[0m\n\u001b[0;32m      1\u001b[0m \u001b[1;31m# try loading dangerous code\u001b[0m\u001b[1;33m\u001b[0m\u001b[1;33m\u001b[0m\u001b[1;33m\u001b[0m\u001b[0m\n\u001b[1;32m----> 2\u001b[1;33m \u001b[0mrestricted_loads\u001b[0m\u001b[1;33m(\u001b[0m\u001b[1;34mb\"cos\\nsystem\\n(S'echo hello world'\\ntR.\"\u001b[0m\u001b[1;33m)\u001b[0m\u001b[1;33m\u001b[0m\u001b[1;33m\u001b[0m\u001b[0m\n\u001b[0m",
      "\u001b[1;32m<ipython-input-110-8ce5f3ea982c>\u001b[0m in \u001b[0;36mrestricted_loads\u001b[1;34m(s)\u001b[0m\n\u001b[0;32m      2\u001b[0m \u001b[1;32mdef\u001b[0m \u001b[0mrestricted_loads\u001b[0m\u001b[1;33m(\u001b[0m\u001b[0ms\u001b[0m\u001b[1;33m)\u001b[0m\u001b[1;33m:\u001b[0m\u001b[1;33m\u001b[0m\u001b[1;33m\u001b[0m\u001b[0m\n\u001b[0;32m      3\u001b[0m     \u001b[1;34m\"\"\"Helper function analogous to pickle.loads().\"\"\"\u001b[0m\u001b[1;33m\u001b[0m\u001b[1;33m\u001b[0m\u001b[0m\n\u001b[1;32m----> 4\u001b[1;33m     \u001b[1;32mreturn\u001b[0m \u001b[0mRestrictedUnpickler\u001b[0m\u001b[1;33m(\u001b[0m\u001b[0mio\u001b[0m\u001b[1;33m.\u001b[0m\u001b[0mBytesIO\u001b[0m\u001b[1;33m(\u001b[0m\u001b[0ms\u001b[0m\u001b[1;33m)\u001b[0m\u001b[1;33m)\u001b[0m\u001b[1;33m.\u001b[0m\u001b[0mload\u001b[0m\u001b[1;33m(\u001b[0m\u001b[1;33m)\u001b[0m\u001b[1;33m\u001b[0m\u001b[1;33m\u001b[0m\u001b[0m\n\u001b[0m",
      "\u001b[1;32m<ipython-input-111-8520ca5f7db9>\u001b[0m in \u001b[0;36mfind_class\u001b[1;34m(self, module, name)\u001b[0m\n\u001b[0;32m     18\u001b[0m         \u001b[1;31m# Forbid everything else.\u001b[0m\u001b[1;33m\u001b[0m\u001b[1;33m\u001b[0m\u001b[1;33m\u001b[0m\u001b[0m\n\u001b[0;32m     19\u001b[0m         raise pickle.UnpicklingError(\"global '%s.%s' is forbidden\" %\n\u001b[1;32m---> 20\u001b[1;33m                                      (module, name))\n\u001b[0m",
      "\u001b[1;31mUnpicklingError\u001b[0m: global 'os.system' is forbidden"
     ]
    }
   ],
   "source": [
    "# try loading dangerous code\n",
    "restricted_loads(b\"cos\\nsystem\\n(S'echo hello world'\\ntR.\")"
   ]
  },
  {
   "cell_type": "markdown",
   "metadata": {
    "slideshow": {
     "slide_type": "slide"
    }
   },
   "source": [
    "### Numpy Loading\n",
    "\n",
    "Numpy is vulnerable to remote code execution when loading arrays of objects.\n",
    "\n",
    "Prefer using `allow_pickle=False` when saving and loading in numpy."
   ]
  },
  {
   "cell_type": "code",
   "execution_count": null,
   "metadata": {
    "slideshow": {
     "slide_type": "fragment"
    }
   },
   "outputs": [],
   "source": [
    "import numpy\n",
    "\n",
    "import io\n",
    "outfile = io.BytesIO()\n",
    "\n",
    "numpy.save(outfile, numpy.arange(10), allow_pickle=False)\n",
    "_ = outfile.seek(0) # Only needed here to simulate closing & reopening file\n",
    "print(numpy.load(outfile, allow_pickle=False))\n"
   ]
  },
  {
   "cell_type": "markdown",
   "metadata": {
    "slideshow": {
     "slide_type": "slide"
    }
   },
   "source": [
    "### Numpy Loading: CVE-2019-6446 exploit"
   ]
  },
  {
   "cell_type": "markdown",
   "metadata": {},
   "source": [
    "allow_pickle is True by default before numpy version 1.16.3:"
   ]
  },
  {
   "cell_type": "code",
   "execution_count": 114,
   "metadata": {
    "slideshow": {
     "slide_type": "-"
    }
   },
   "outputs": [
    {
     "data": {
      "text/plain": [
       "0"
      ]
     },
     "execution_count": 114,
     "metadata": {},
     "output_type": "execute_result"
    }
   ],
   "source": [
    "import numpy\n",
    "import io\n",
    "import pickle\n",
    "import os\n",
    "\n",
    "class Test(object):\n",
    "    def __init__(self):\n",
    "        self.a = 1\n",
    "\n",
    "    def __reduce__(self):\n",
    "        return (os.system,('echo Remote code executed',))\n",
    "tmpdaa = Test()\n",
    "\n",
    "numpy.load(io.BytesIO(pickle.dumps(tmpdaa)), allow_pickle=True)\n"
   ]
  },
  {
   "cell_type": "markdown",
   "metadata": {
    "slideshow": {
     "slide_type": "slide"
    }
   },
   "source": [
    "## Yaml"
   ]
  },
  {
   "cell_type": "markdown",
   "metadata": {
    "slideshow": {
     "slide_type": "slide"
    }
   },
   "source": [
    "### What is YAML?\n",
    "\n",
    "Yaml is data serialization format.\n",
    "\n",
    "It provides a simple reading and editing in plain text, thus frequiently used as a format for various configuration files."
   ]
  },
  {
   "cell_type": "markdown",
   "metadata": {
    "slideshow": {
     "slide_type": "slide"
    }
   },
   "source": [
    "### Yaml vs. JSON:\n",
    "\n",
    "- Yaml:\n",
    "``` yaml\n",
    "klocwork_linux:\n",
    "  os:\n",
    "    ubuntu18\n",
    "klocwork_win:\n",
    "  os:\n",
    "    windows\n",
    "```\n",
    "- JSON:\n",
    "``` json\n",
    "klocwork_linux: {\n",
    "  os: ubuntu18,\n",
    "},\n",
    "klocwork_win: {\n",
    "  os: windows\n",
    "}\n",
    "```"
   ]
  },
  {
   "cell_type": "markdown",
   "metadata": {
    "slideshow": {
     "slide_type": "skip"
    }
   },
   "source": [
    "TODO: basic types\n",
    "\n",
    "TODO: advanced python types"
   ]
  },
  {
   "cell_type": "markdown",
   "metadata": {
    "slideshow": {
     "slide_type": "slide"
    }
   },
   "source": [
    "### Yaml Safe Loading\n",
    "\n",
    "Prefer using `yaml.safe_load()` and `yaml.safe_dump()` when loading and saving yaml files.\n",
    "\n",
    "`yaml.load()` is as powerfull as `pickle.load()`."
   ]
  },
  {
   "cell_type": "markdown",
   "metadata": {
    "slideshow": {
     "slide_type": "notes"
    }
   },
   "source": [
    "Yaml can construct arbitray python objects and `yaml.safe_load()` limits this to\n",
    "simple Python objects like lists and integers."
   ]
  },
  {
   "cell_type": "code",
   "execution_count": null,
   "metadata": {
    "slideshow": {
     "slide_type": "-"
    }
   },
   "outputs": [],
   "source": [
    "import yaml\n",
    "text = yaml.safe_dump({'a':1})\n",
    "yaml.safe_load(text)"
   ]
  },
  {
   "cell_type": "markdown",
   "metadata": {
    "slideshow": {
     "slide_type": "slide"
    }
   },
   "source": [
    "### Yaml Code Execution"
   ]
  },
  {
   "cell_type": "code",
   "execution_count": 146,
   "metadata": {},
   "outputs": [
    {
     "name": "stdout",
     "output_type": "stream",
     "text": [
      "<class 'yaml.constructor.z'>\n"
     ]
    }
   ],
   "source": [
    "import subprocess\n",
    "subprocess.check_output('echo EXPLOIT!!!', shell=True)\n",
    "\n",
    "import yaml\n",
    "data = b\"\"\"\n",
    "!!python/object/new:type\n",
    "  args: [\"z\", !!python/tuple [], {\"extend\": !!python/name:exec }]\n",
    "  listitems: \"import os; os.system('echo EXPLOIT! >> exploit_yyaml.txt')\"\n",
    "\"\"\"\n",
    "deserialized_data = yaml.load(data, Loader=yaml.FullLoader) # deserializing data\n"
   ]
  },
  {
   "cell_type": "markdown",
   "metadata": {
    "slideshow": {
     "slide_type": "slide"
    }
   },
   "source": [
    "### Yaml Objects\n",
    "\n",
    "PyYAML provides a hooks and helper classes to use full power of PyYAML safely.\n",
    "\n",
    "To declare your object can be loaded safely you can inherit it from\n",
    "yaml.YAMLObject and set `yaml_loader=yaml.SafeLoader`."
   ]
  },
  {
   "cell_type": "code",
   "execution_count": null,
   "metadata": {
    "slideshow": {
     "slide_type": "fragment"
    }
   },
   "outputs": [],
   "source": [
    "import yaml\n",
    "\n",
    "class Monster(yaml.YAMLObject):\n",
    "    yaml_tag = u'!Monster'\n",
    "    yaml_loader = yaml.SafeLoader\n",
    "    yaml_dumper = yaml.SafeDumper\n",
    "    def __init__(self, name, hp, ac, attacks):\n",
    "        self.name = name\n",
    "        self.hp = hp\n",
    "        self.ac = ac\n",
    "        self.attacks = attacks\n",
    "print(yaml.safe_dump(Monster(name='Cave lizard', hp=[3,6], ac=16, attacks=['BITE','HURT'])))\n",
    "print(yaml.safe_load('!Monster {ac: 16, attacks: [BITE, HURT], hp: [3, 6], name: Cave lizard}'))"
   ]
  },
  {
   "cell_type": "markdown",
   "metadata": {
    "slideshow": {
     "slide_type": "slide"
    }
   },
   "source": [
    "### Implicit Yaml Objects\n",
    "\n",
    "What if you need advanced scalar construction?\n",
    "\n",
    "``` yaml\n",
    "tests:\n",
    "- mark: pytest.mark.xfail\n",
    "  name: feature_A_exists\n",
    "- name: feature_B_exists\n",
    "```"
   ]
  },
  {
   "cell_type": "code",
   "execution_count": 147,
   "metadata": {
    "slideshow": {
     "slide_type": "skip"
    }
   },
   "outputs": [
    {
     "name": "stdout",
     "output_type": "stream",
     "text": [
      "MarkDecorator(mark=Mark(name='xfail', args=(), kwargs={}))\n",
      "MarkDecorator(mark=Mark(name='xfail', args=(), kwargs={}))\n"
     ]
    }
   ],
   "source": [
    "# First check what pytest mark is\n",
    "import pytest\n",
    "print(pytest.mark.xfail)\n",
    "print(pytest.mark.__getattr__('xfail'))"
   ]
  },
  {
   "cell_type": "code",
   "execution_count": 126,
   "metadata": {
    "slideshow": {
     "slide_type": "fragment"
    }
   },
   "outputs": [
    {
     "name": "stdout",
     "output_type": "stream",
     "text": [
      "{'mark': 'pytest.mark.xfail'}\n",
      "{'mark': 'pytest.mark.xfail'}\n",
      "mark: pytest.mark.xfail\n",
      "\n",
      "{'mark': MarkDecorator(mark=Mark(name='xfail', args=(), kwargs={}))}\n"
     ]
    }
   ],
   "source": [
    "# Now we can register constructor and representer:\n",
    "import re\n",
    "import yaml\n",
    "import pytest\n",
    "\n",
    "def pytest_mark_constructor(loader, node):\n",
    "    value = loader.construct_scalar(node)\n",
    "    return pytest.mark.__getattr__(value.rsplit(\".\", 1)[1])\n",
    "def pytest_mark_representer(dumper, data):\n",
    "    return dumper.represent_scalar('tag:yaml.org,2002:str', u'pytest.mark.%s' % data.name)\n",
    "yaml.add_constructor(u'!pytest.mark', pytest_mark_constructor, Loader=yaml.SafeLoader)\n",
    "yaml.add_implicit_resolver(u'!pytest.mark', re.compile(r'^pytest\\.mark\\.[a-zA-Z]+$'))\n",
    "yaml.add_representer(type(pytest.mark.xfail), pytest_mark_representer, Dumper=yaml.SafeDumper)\n",
    "# try load pytest.mark. scalar\n",
    "print(yaml.safe_load('{mark: pytest.mark.xfail}'))\n",
    "print(yaml.safe_load('mark: \"pytest.mark.xfail\"'))\n",
    "# check is dumping pytest.mark. scalar works\n",
    "print(yaml.safe_dump({'mark':pytest.mark.xfail}))\n",
    "print ({'mark':pytest.mark.xfail})"
   ]
  },
  {
   "cell_type": "code",
   "execution_count": null,
   "metadata": {
    "slideshow": {
     "slide_type": "skip"
    }
   },
   "outputs": [],
   "source": [
    "todo: add detailed explanation of constructor representer and types"
   ]
  }
 ],
 "metadata": {
  "celltoolbar": "Slideshow",
  "kernelspec": {
   "display_name": "Python 3",
   "language": "python",
   "name": "python3"
  },
  "language_info": {
   "codemirror_mode": {
    "name": "ipython",
    "version": 3
   },
   "file_extension": ".py",
   "mimetype": "text/x-python",
   "name": "python",
   "nbconvert_exporter": "python",
   "pygments_lexer": "ipython3",
   "version": "3.7.4"
  },
  "rise": {
   "autolaunch": true,
   "scroll": true
  }
 },
 "nbformat": 4,
 "nbformat_minor": 4
}
