{
 "cells": [
  {
   "cell_type": "markdown",
   "metadata": {
    "slideshow": {
     "slide_type": "slide"
    }
   },
   "source": [
    "# Serialization"
   ]
  },
  {
   "cell_type": "markdown",
   "metadata": {
    "slideshow": {
     "slide_type": "slide"
    }
   },
   "source": [
    "### Insecure Deserialization\n",
    "\n",
    "A vulnerability leads to:\n",
    "- abuse application logic,\n",
    "- deny service, or\n",
    "- execute arbitrary code when an object being deserialized\n",
    "\n",
    "> [CWE-502: Deserialization of Untrusted Data](https://cwe.mitre.org/data/definitions/502.html)"
   ]
  },
  {
   "cell_type": "markdown",
   "metadata": {
    "slideshow": {
     "slide_type": "slide"
    }
   },
   "source": [
    "> Don't compile and run untrusted pull request.<br><br>\n",
    "Don't load pickle files you found on a street."
   ]
  },
  {
   "cell_type": "markdown",
   "metadata": {
    "slideshow": {
     "slide_type": "slide"
    }
   },
   "source": [
    "## Pickle"
   ]
  },
  {
   "cell_type": "markdown",
   "metadata": {
    "slideshow": {
     "slide_type": "slide"
    }
   },
   "source": [
    "### Pickling\n",
    "\n",
    "Preserving for future use.\n",
    "\n",
    "The pickle module implements binary protocols for serializing and de-serializing a Python object structure.\n",
    "\n",
    "Preferred way to serialize python objects."
   ]
  },
  {
   "cell_type": "markdown",
   "metadata": {
    "slideshow": {
     "slide_type": "slide"
    }
   },
   "source": [
    "### Pickling Basics"
   ]
  },
  {
   "cell_type": "code",
   "execution_count": 34,
   "metadata": {},
   "outputs": [
    {
     "name": "stdout",
     "output_type": "stream",
     "text": [
      "b'\\x80\\x03}q\\x00(X\\x01\\x00\\x00\\x00aq\\x01]q\\x02(K\\x01G@\\x00\\x00\\x00\\x00\\x00\\x00\\x00K\\x03cbuiltins\\ncomplex\\nq\\x03G@\\x10\\x00\\x00\\x00\\x00\\x00\\x00G@\\x18\\x00\\x00\\x00\\x00\\x00\\x00\\x86q\\x04Rq\\x05eX\\x01\\x00\\x00\\x00bq\\x06X\\x10\\x00\\x00\\x00character stringq\\x07C\\x0bbyte stringq\\x08\\x86q\\tX\\x01\\x00\\x00\\x00cq\\ncbuiltins\\nset\\nq\\x0b]q\\x0c(\\x89\\x88Ne\\x85q\\rRq\\x0eu.'\n"
     ]
    }
   ],
   "source": [
    "import pickle\n",
    "\n",
    "# An arbitrary collection of objects supported by pickle.\n",
    "data = {\n",
    "    'a': [1, 2.0, 3, 4+6j],\n",
    "    'b': (\"character string\", b\"byte string\"),\n",
    "    'c': {None, True, False}\n",
    "}\n",
    "\n",
    "canned_data = pickle.dumps(data)\n",
    "print(canned_data)"
   ]
  },
  {
   "cell_type": "code",
   "execution_count": 35,
   "metadata": {
    "slideshow": {
     "slide_type": "fragment"
    }
   },
   "outputs": [
    {
     "data": {
      "text/plain": [
       "{'a': [1, 2.0, 3, (4+6j)],\n",
       " 'b': ('character string', b'byte string'),\n",
       " 'c': {False, None, True}}"
      ]
     },
     "execution_count": 35,
     "metadata": {},
     "output_type": "execute_result"
    }
   ],
   "source": [
    "pickle.loads(canned_data)"
   ]
  },
  {
   "cell_type": "markdown",
   "metadata": {
    "slideshow": {
     "slide_type": "slide"
    }
   },
   "source": [
    "### Pickle Security\n",
    "\n",
    "`pickle` security warning at docs.python.org:\n",
    "\n",
    "> **Warning:** The pickle module **is not secure**. Only unpickle data you trust.<br><br>\n",
    "It is possible to construct malicious pickle data which will **execute arbitrary code during unpickling**. Never unpickle data that could have come from an untrusted source, or that could have been tampered with."
   ]
  },
  {
   "cell_type": "markdown",
   "metadata": {
    "slideshow": {
     "slide_type": "slide"
    }
   },
   "source": [
    "### Pickle Code Execution\n",
    "\n",
    "Pickle can also handle the module imports and execute functions:"
   ]
  },
  {
   "cell_type": "code",
   "execution_count": 63,
   "metadata": {
    "slideshow": {
     "slide_type": "-"
    }
   },
   "outputs": [
    {
     "name": "stdout",
     "output_type": "stream",
     "text": [
      "hello world\n"
     ]
    }
   ],
   "source": [
    "# This will call OS `echo hello world`\n",
    "import pickle\n",
    "pickle.loads(b\"cos\\nsystem\\n(S'echo hello world'\\ntR.\")\n",
    "\n",
    "!python ../examples/pickle_expliot.py"
   ]
  },
  {
   "cell_type": "markdown",
   "metadata": {
    "slideshow": {
     "slide_type": "slide"
    }
   },
   "source": [
    "### Secure `pickle` Usage\n",
    "\n",
    "If you brave enough and need to use pickle ensure it comes from trusted source and can't be altered on it's way:\n",
    "\n",
    "1. Encrypted network connection or cryptographic signature\n",
    "2. Strict permissions if loading from disk"
   ]
  },
  {
   "cell_type": "markdown",
   "metadata": {
    "slideshow": {
     "slide_type": "slide"
    }
   },
   "source": [
    "### Signing Serialized Data"
   ]
  },
  {
   "cell_type": "code",
   "execution_count": 41,
   "metadata": {
    "slideshow": {
     "slide_type": "-"
    }
   },
   "outputs": [],
   "source": [
    "import pickle\n",
    "# An arbitrary collection of objects supported by pickle.\n",
    "obj = {\n",
    "    'a': [1, 2.0, 3, 4+6j],\n",
    "    'b': (\"character string\", b\"byte string\"),\n",
    "    'c': {None, True, False}\n",
    "}\n",
    "data = pickle.dumps(obj)"
   ]
  },
  {
   "cell_type": "code",
   "execution_count": 42,
   "metadata": {
    "slideshow": {
     "slide_type": "fragment"
    }
   },
   "outputs": [],
   "source": [
    "# assume both parties agreed on some random secret key for the session\n",
    "import secrets\n",
    "secret_random_key = secrets.token_bytes(32)"
   ]
  },
  {
   "cell_type": "code",
   "execution_count": 43,
   "metadata": {
    "slideshow": {
     "slide_type": "fragment"
    }
   },
   "outputs": [
    {
     "name": "stdout",
     "output_type": "stream",
     "text": [
      "b'\\xd6\\xf3\\xd8\\xf5Z\"\\xde-\\x1a\\xf13@\\xbc\\x10\\xf0\\xd3\\xe5\\xd6\\xf2\\x91\\x0f\\x1e#\\xc60\\xaa\\xb6\\xa2\\x13l\\xd2\\xc9\\x80\\x03}q\\x00(X\\x01\\x00\\x00\\x00aq\\x01]q\\x02(K\\x01G@\\x00\\x00\\x00\\x00\\x00\\x00\\x00K\\x03cbuiltins\\ncomplex\\nq\\x03G@\\x10\\x00\\x00\\x00\\x00\\x00\\x00G@\\x18\\x00\\x00\\x00\\x00\\x00\\x00\\x86q\\x04Rq\\x05eX\\x01\\x00\\x00\\x00bq\\x06X\\x10\\x00\\x00\\x00character stringq\\x07C\\x0bbyte stringq\\x08\\x86q\\tX\\x01\\x00\\x00\\x00cq\\ncbuiltins\\nset\\nq\\x0b]q\\x0c(\\x89\\x88Ne\\x85q\\rRq\\x0eu.'\n"
     ]
    }
   ],
   "source": [
    "# send a pickled data along with its digest\n",
    "import hmac\n",
    "digest = hmac.new(secret_random_key, data, 'sha256').digest()\n",
    "payload = digest + data\n",
    "print(payload)"
   ]
  },
  {
   "cell_type": "code",
   "execution_count": 44,
   "metadata": {
    "slideshow": {
     "slide_type": "fragment"
    }
   },
   "outputs": [
    {
     "data": {
      "text/plain": [
       "{'a': [1, 2.0, 3, (4+6j)],\n",
       " 'b': ('character string', b'byte string'),\n",
       " 'c': {False, None, True}}"
      ]
     },
     "execution_count": 44,
     "metadata": {},
     "output_type": "execute_result"
    }
   ],
   "source": [
    "# recieve the payload and verify the digest before using the data\n",
    "def unpickle_payload(payload):\n",
    "    rcv_digest = payload[:32]\n",
    "    rcv_data = payload[32:]\n",
    "    expected_digest = hmac.new(secret_random_key,\n",
    "                               rcv_data,\n",
    "                               'sha256').digest()\n",
    "    if not secrets.compare_digest(rcv_digest, expected_digest):\n",
    "        raise ValueError('Integrity check failed')\n",
    "    return pickle.loads(rcv_data)\n",
    "\n",
    "unpickle_payload(payload)"
   ]
  },
  {
   "cell_type": "code",
   "execution_count": 45,
   "metadata": {
    "scrolled": true,
    "slideshow": {
     "slide_type": "fragment"
    }
   },
   "outputs": [
    {
     "ename": "ValueError",
     "evalue": "Integrity check failed",
     "output_type": "error",
     "traceback": [
      "\u001b[1;31m---------------------------------------------------------------------------\u001b[0m",
      "\u001b[1;31mValueError\u001b[0m                                Traceback (most recent call last)",
      "\u001b[1;32m<ipython-input-45-0feab58f67aa>\u001b[0m in \u001b[0;36m<module>\u001b[1;34m\u001b[0m\n\u001b[0;32m      1\u001b[0m \u001b[1;31m# check if unauthorized modification detected\u001b[0m\u001b[1;33m\u001b[0m\u001b[1;33m\u001b[0m\u001b[1;33m\u001b[0m\u001b[0m\n\u001b[1;32m----> 2\u001b[1;33m \u001b[0munpickle_payload\u001b[0m\u001b[1;33m(\u001b[0m\u001b[0mpayload\u001b[0m \u001b[1;33m+\u001b[0m \u001b[1;34mb'hack'\u001b[0m\u001b[1;33m)\u001b[0m\u001b[1;33m\u001b[0m\u001b[1;33m\u001b[0m\u001b[0m\n\u001b[0m",
      "\u001b[1;32m<ipython-input-44-517da0977681>\u001b[0m in \u001b[0;36munpickle_payload\u001b[1;34m(payload)\u001b[0m\n\u001b[0;32m      7\u001b[0m                                'sha256').digest()\n\u001b[0;32m      8\u001b[0m     \u001b[1;32mif\u001b[0m \u001b[1;32mnot\u001b[0m \u001b[0msecrets\u001b[0m\u001b[1;33m.\u001b[0m\u001b[0mcompare_digest\u001b[0m\u001b[1;33m(\u001b[0m\u001b[0mrcv_digest\u001b[0m\u001b[1;33m,\u001b[0m \u001b[0mexpected_digest\u001b[0m\u001b[1;33m)\u001b[0m\u001b[1;33m:\u001b[0m\u001b[1;33m\u001b[0m\u001b[1;33m\u001b[0m\u001b[0m\n\u001b[1;32m----> 9\u001b[1;33m         \u001b[1;32mraise\u001b[0m \u001b[0mValueError\u001b[0m\u001b[1;33m(\u001b[0m\u001b[1;34m'Integrity check failed'\u001b[0m\u001b[1;33m)\u001b[0m\u001b[1;33m\u001b[0m\u001b[1;33m\u001b[0m\u001b[0m\n\u001b[0m\u001b[0;32m     10\u001b[0m     \u001b[1;32mreturn\u001b[0m \u001b[0mpickle\u001b[0m\u001b[1;33m.\u001b[0m\u001b[0mloads\u001b[0m\u001b[1;33m(\u001b[0m\u001b[0mrcv_data\u001b[0m\u001b[1;33m)\u001b[0m\u001b[1;33m\u001b[0m\u001b[1;33m\u001b[0m\u001b[0m\n\u001b[0;32m     11\u001b[0m \u001b[1;33m\u001b[0m\u001b[0m\n",
      "\u001b[1;31mValueError\u001b[0m: Integrity check failed"
     ]
    }
   ],
   "source": [
    "# check if unauthorized modification detected\n",
    "unpickle_payload(payload + b'hack')"
   ]
  },
  {
   "cell_type": "markdown",
   "metadata": {
    "slideshow": {
     "slide_type": "slide"
    }
   },
   "source": [
    "### Restricted Unpickler\n",
    "\n",
    "Limit unpickler to 'safe' objects to mitigate risk of code execution.\n",
    "\n",
    "> Restricted unpickler does not mitigate all security risks with `pickle.load()`."
   ]
  },
  {
   "cell_type": "markdown",
   "metadata": {
    "slideshow": {
     "slide_type": "notes"
    }
   },
   "source": [
    "\n",
    "At the end whis will not protect you. Dedicated hacker can always find a way.\n",
    "Avoid using pickle. Consider JSON or protobuf as secure alternatives.\n",
    "\n",
    "[python-can-i-safely-unpickle-untrusted-data](https://stackoverflow.com/questions/25353753/python-can-i-safely-unpickle-untrusted-data)\n",
    "\n",
    "[reverse enginnering pickle](https://hackmd.io/@2KUYNtTcQ7WRyTsBT7oePg/BycZwjKNX?print-pdf#/)"
   ]
  },
  {
   "cell_type": "code",
   "execution_count": 46,
   "metadata": {
    "slideshow": {
     "slide_type": "fragment"
    }
   },
   "outputs": [],
   "source": [
    "import builtins\n",
    "import pickle\n",
    "\n",
    "safe_builtins = {\n",
    "    'range',\n",
    "    'complex',\n",
    "    'set',\n",
    "    'frozenset',\n",
    "    'slice',\n",
    "}\n",
    "\n",
    "class RestrictedUnpickler(pickle.Unpickler):\n",
    "\n",
    "    def find_class(self, module, name):\n",
    "        # Only allow safe classes from builtins.\n",
    "        if module == \"builtins\" and name in safe_builtins:\n",
    "            return getattr(builtins, name)\n",
    "        # Forbid everything else.\n",
    "        raise pickle.UnpicklingError(\"global '%s.%s' is forbidden\" %\n",
    "                                     (module, name))"
   ]
  },
  {
   "cell_type": "code",
   "execution_count": 47,
   "metadata": {
    "slideshow": {
     "slide_type": "fragment"
    }
   },
   "outputs": [],
   "source": [
    "import io\n",
    "def restricted_loads(s):\n",
    "    \"\"\"Helper function analogous to pickle.loads().\"\"\"\n",
    "    return RestrictedUnpickler(io.BytesIO(s)).load()"
   ]
  },
  {
   "cell_type": "code",
   "execution_count": 64,
   "metadata": {
    "slideshow": {
     "slide_type": "fragment"
    }
   },
   "outputs": [
    {
     "data": {
      "text/plain": [
       "{'a': [1, 2.0, 3, (4+6j)],\n",
       " 'b': ('character string', b'byte string'),\n",
       " 'c': {False, None, True}}"
      ]
     },
     "execution_count": 64,
     "metadata": {},
     "output_type": "execute_result"
    }
   ],
   "source": [
    "# try loading builtins ony\n",
    "obj = {\n",
    "    'a': [1, 2.0, 3, 4+6j],\n",
    "    'b': (\"character string\", b\"byte string\"),\n",
    "    'c': {None, True, False}\n",
    "}\n",
    "\n",
    "restricted_loads(pickle.dumps(obj))"
   ]
  },
  {
   "cell_type": "code",
   "execution_count": 49,
   "metadata": {
    "scrolled": true,
    "slideshow": {
     "slide_type": "fragment"
    }
   },
   "outputs": [
    {
     "ename": "UnpicklingError",
     "evalue": "global 'os.system' is forbidden",
     "output_type": "error",
     "traceback": [
      "\u001b[1;31m---------------------------------------------------------------------------\u001b[0m",
      "\u001b[1;31mUnpicklingError\u001b[0m                           Traceback (most recent call last)",
      "\u001b[1;32m<ipython-input-49-07c62f1f729f>\u001b[0m in \u001b[0;36m<module>\u001b[1;34m\u001b[0m\n\u001b[0;32m      1\u001b[0m \u001b[1;31m# try loading dangerous code\u001b[0m\u001b[1;33m\u001b[0m\u001b[1;33m\u001b[0m\u001b[1;33m\u001b[0m\u001b[0m\n\u001b[1;32m----> 2\u001b[1;33m \u001b[0mrestricted_loads\u001b[0m\u001b[1;33m(\u001b[0m\u001b[1;34mb\"cos\\nsystem\\n(S'echo hello world'\\ntR.\"\u001b[0m\u001b[1;33m)\u001b[0m\u001b[1;33m\u001b[0m\u001b[1;33m\u001b[0m\u001b[0m\n\u001b[0m",
      "\u001b[1;32m<ipython-input-47-8ce5f3ea982c>\u001b[0m in \u001b[0;36mrestricted_loads\u001b[1;34m(s)\u001b[0m\n\u001b[0;32m      2\u001b[0m \u001b[1;32mdef\u001b[0m \u001b[0mrestricted_loads\u001b[0m\u001b[1;33m(\u001b[0m\u001b[0ms\u001b[0m\u001b[1;33m)\u001b[0m\u001b[1;33m:\u001b[0m\u001b[1;33m\u001b[0m\u001b[1;33m\u001b[0m\u001b[0m\n\u001b[0;32m      3\u001b[0m     \u001b[1;34m\"\"\"Helper function analogous to pickle.loads().\"\"\"\u001b[0m\u001b[1;33m\u001b[0m\u001b[1;33m\u001b[0m\u001b[0m\n\u001b[1;32m----> 4\u001b[1;33m     \u001b[1;32mreturn\u001b[0m \u001b[0mRestrictedUnpickler\u001b[0m\u001b[1;33m(\u001b[0m\u001b[0mio\u001b[0m\u001b[1;33m.\u001b[0m\u001b[0mBytesIO\u001b[0m\u001b[1;33m(\u001b[0m\u001b[0ms\u001b[0m\u001b[1;33m)\u001b[0m\u001b[1;33m)\u001b[0m\u001b[1;33m.\u001b[0m\u001b[0mload\u001b[0m\u001b[1;33m(\u001b[0m\u001b[1;33m)\u001b[0m\u001b[1;33m\u001b[0m\u001b[1;33m\u001b[0m\u001b[0m\n\u001b[0m",
      "\u001b[1;32m<ipython-input-46-8520ca5f7db9>\u001b[0m in \u001b[0;36mfind_class\u001b[1;34m(self, module, name)\u001b[0m\n\u001b[0;32m     18\u001b[0m         \u001b[1;31m# Forbid everything else.\u001b[0m\u001b[1;33m\u001b[0m\u001b[1;33m\u001b[0m\u001b[1;33m\u001b[0m\u001b[0m\n\u001b[0;32m     19\u001b[0m         raise pickle.UnpicklingError(\"global '%s.%s' is forbidden\" %\n\u001b[1;32m---> 20\u001b[1;33m                                      (module, name))\n\u001b[0m",
      "\u001b[1;31mUnpicklingError\u001b[0m: global 'os.system' is forbidden"
     ]
    }
   ],
   "source": [
    "# try loading dangerous code\n",
    "restricted_loads(b\"cos\\nsystem\\n(S'echo hello world'\\ntR.\")"
   ]
  },
  {
   "cell_type": "markdown",
   "metadata": {
    "slideshow": {
     "slide_type": "slide"
    }
   },
   "source": [
    "### Numpy Loading\n",
    "\n",
    "Numpy is vulnerable to remote code execution when loading arrays of objects.\n",
    "\n",
    "Prefer using `allow_pickle=False` when saving and loading in numpy."
   ]
  },
  {
   "cell_type": "code",
   "execution_count": 50,
   "metadata": {
    "slideshow": {
     "slide_type": "fragment"
    }
   },
   "outputs": [
    {
     "name": "stdout",
     "output_type": "stream",
     "text": [
      "[0 1 2 3 4 5 6 7 8 9]\n"
     ]
    }
   ],
   "source": [
    "import numpy\n",
    "\n",
    "import io\n",
    "outfile = io.BytesIO()\n",
    "\n",
    "numpy.save(outfile, numpy.arange(10), allow_pickle=False)\n",
    "_ = outfile.seek(0) # Only needed here to simulate closing & reopening file\n",
    "print(numpy.load(outfile, allow_pickle=False))"
   ]
  },
  {
   "cell_type": "markdown",
   "metadata": {
    "slideshow": {
     "slide_type": "slide"
    }
   },
   "source": [
    "### Demo CVE-2019-6446 Exploit"
   ]
  },
  {
   "cell_type": "markdown",
   "metadata": {
    "slideshow": {
     "slide_type": "-"
    }
   },
   "source": [
    "allow_pickle is True by default before numpy version 1.16.3:"
   ]
  },
  {
   "cell_type": "code",
   "execution_count": 56,
   "metadata": {
    "slideshow": {
     "slide_type": "-"
    }
   },
   "outputs": [
    {
     "name": "stdout",
     "output_type": "stream",
     "text": [
      "Remote code executed\n"
     ]
    }
   ],
   "source": [
    "# CVE-2019-6446 exploit\n",
    "import numpy\n",
    "import io\n",
    "import pickle\n",
    "import os\n",
    "\n",
    "class Test(object):\n",
    "    def __init__(self):\n",
    "        self.a = 1\n",
    "\n",
    "    def __reduce__(self):        \n",
    "        return (os.system,('echo Remote code executed',))\n",
    "malicious_object = Test()\n",
    "\n",
    "# remote code execution\n",
    "numpy.load(io.BytesIO(pickle.dumps(malicious_object)),\n",
    "           allow_pickle=True)\n",
    "\n",
    "!python ../examples/numpy_exploit.py"
   ]
  },
  {
   "cell_type": "markdown",
   "metadata": {
    "slideshow": {
     "slide_type": "notes"
    }
   },
   "source": [
    "The `__reduce__()` method takes no argument and shall return either a string or preferably a tuple (the returned object is often referred to as the \"reduce value\"). ... When a tuple is returned, it must be between two and six items long. Optional items can either be omitted, or None can be provided as their value. The semantics of each item are in order:\n",
    "\n",
    "A callable object that will be called to create the initial version of the object.\n",
    "A tuple of arguments for the callable object. An empty tuple must be given if the callable does not accept any argument. ...\n",
    "https://davidhamann.de/2020/04/05/exploiting-python-pickle/"
   ]
  },
  {
   "cell_type": "markdown",
   "metadata": {
    "slideshow": {
     "slide_type": "slide"
    }
   },
   "source": [
    "## Yaml"
   ]
  },
  {
   "cell_type": "markdown",
   "metadata": {
    "slideshow": {
     "slide_type": "slide"
    }
   },
   "source": [
    "### What is YAML?\n",
    "\n",
    "Yaml is data serialization format.\n",
    "\n",
    "It provides a simple reading and editing in plain text, thus frequiently used as a format for various configuration files."
   ]
  },
  {
   "cell_type": "markdown",
   "metadata": {
    "slideshow": {
     "slide_type": "slide"
    }
   },
   "source": [
    "### Yaml vs. JSON:"
   ]
  },
  {
   "cell_type": "markdown",
   "metadata": {
    "cell_style": "split",
    "slideshow": {
     "slide_type": "-"
    }
   },
   "source": [
    "Yaml:\n",
    "\n",
    "``` yaml\n",
    "klocwork_linux:\n",
    "  os:\n",
    "    ubuntu18\n",
    "klocwork_win:\n",
    "  os:\n",
    "    windows\n",
    "```"
   ]
  },
  {
   "cell_type": "markdown",
   "metadata": {
    "cell_style": "split",
    "slideshow": {
     "slide_type": "-"
    }
   },
   "source": [
    "JSON:\n",
    "\n",
    "```javascript\n",
    "{\n",
    "  \"klocwork_linux\": {\n",
    "    \"os\": \"ubuntu18\"\n",
    "  },\n",
    "  \"klocwork_win\": {\n",
    "    \"os\": \"windows\"\n",
    "  }\n",
    "}\n",
    "```"
   ]
  },
  {
   "cell_type": "markdown",
   "metadata": {
    "slideshow": {
     "slide_type": "skip"
    }
   },
   "source": [
    "TODO: basic types\n",
    "\n",
    "TODO: advanced python types"
   ]
  },
  {
   "cell_type": "markdown",
   "metadata": {
    "slideshow": {
     "slide_type": "slide"
    }
   },
   "source": [
    "### Yaml Safe Loading\n",
    "\n",
    "`yaml.load()` is as powerfull as `pickle.load()`.\n",
    "\n",
    "Prefer using `yaml.safe_load()` and `yaml.safe_dump()` when loading and saving yaml files."
   ]
  },
  {
   "cell_type": "markdown",
   "metadata": {
    "slideshow": {
     "slide_type": "notes"
    }
   },
   "source": [
    "Yaml can construct arbitray python objects and `yaml.safe_load()` limits this to\n",
    "simple Python objects like lists and integers."
   ]
  },
  {
   "cell_type": "code",
   "execution_count": 65,
   "metadata": {
    "slideshow": {
     "slide_type": "-"
    }
   },
   "outputs": [
    {
     "data": {
      "text/plain": [
       "{'a': 1}"
      ]
     },
     "execution_count": 65,
     "metadata": {},
     "output_type": "execute_result"
    }
   ],
   "source": [
    "import yaml\n",
    "text = yaml.safe_dump({'a':1})\n",
    "yaml.safe_load(text)"
   ]
  },
  {
   "cell_type": "markdown",
   "metadata": {
    "slideshow": {
     "slide_type": "slide"
    }
   },
   "source": [
    "### Yaml Code Execution"
   ]
  },
  {
   "cell_type": "code",
   "execution_count": null,
   "metadata": {},
   "outputs": [],
   "source": [
    "import yaml\n",
    "data = b\"\"\"\n",
    "!!python/object/new:type\n",
    "  args: [\"z\", !!python/tuple [], {\"extend\": !!python/name:exec }]\n",
    "  listitems: \"import os; os.system('echo EXPLOIT! >> exploit_yyaml.txt')\"\n",
    "\"\"\"\n",
    "deserialized_data = yaml.load(data, Loader=yaml.FullLoader) # deserializing data\n"
   ]
  },
  {
   "cell_type": "markdown",
   "metadata": {
    "slideshow": {
     "slide_type": "slide"
    }
   },
   "source": [
    "### Extending Safe Loading\n",
    "\n",
    "\n",
    "Declaring safe_load capable object:\n",
    "- Inherit from `yaml.YAMLObject`\n",
    "- Set `yaml_loader = yaml.SafeLoader`"
   ]
  },
  {
   "cell_type": "code",
   "execution_count": 66,
   "metadata": {
    "slideshow": {
     "slide_type": "fragment"
    }
   },
   "outputs": [
    {
     "name": "stdout",
     "output_type": "stream",
     "text": [
      "!Monster\n",
      "ac: 16\n",
      "attacks:\n",
      "- BITE\n",
      "- HURT\n",
      "hp:\n",
      "- 3\n",
      "- 6\n",
      "name: Cave lizard\n",
      "\n"
     ]
    }
   ],
   "source": [
    "import yaml\n",
    "\n",
    "class Monster(yaml.YAMLObject):\n",
    "    yaml_tag = u'!Monster'\n",
    "    yaml_loader = yaml.SafeLoader\n",
    "    yaml_dumper = yaml.SafeDumper\n",
    "    def __init__(self, name, hp, ac, attacks):\n",
    "        self.name = name\n",
    "        self.hp = hp\n",
    "        self.ac = ac\n",
    "        self.attacks = attacks\n",
    "yaml_text = yaml.safe_dump(Monster(\n",
    "    name='Cave lizard',\n",
    "    hp=[3,6],\n",
    "    ac=16,\n",
    "    attacks=['BITE','HURT']))\n",
    "print(yaml_text)"
   ]
  },
  {
   "cell_type": "code",
   "execution_count": 67,
   "metadata": {
    "slideshow": {
     "slide_type": "fragment"
    }
   },
   "outputs": [
    {
     "data": {
      "text/plain": [
       "<__main__.Monster at 0x261398fb7c8>"
      ]
     },
     "execution_count": 67,
     "metadata": {},
     "output_type": "execute_result"
    }
   ],
   "source": [
    "yaml.safe_load(yaml_text)"
   ]
  },
  {
   "cell_type": "markdown",
   "metadata": {
    "slideshow": {
     "slide_type": "slide"
    }
   },
   "source": [
    "### Advanced Safe Loading\n",
    "\n",
    "If you don't want `yaml.YAMLObject` inheritance:\n",
    "- Define functions for serialization.\n",
    "- Register with `yaml.add_constructor` and `yaml.add_representer` for a \"!Monster\" tag.\n",
    "\n",
    "You can also avoid yaml tags with `yaml.add_implicit_resolver` and regexp."
   ]
  },
  {
   "cell_type": "markdown",
   "metadata": {
    "slideshow": {
     "slide_type": "skip"
    }
   },
   "source": [
    "### Implicit Yaml Objects\n",
    "\n",
    "What if you need advanced scalar construction?\n",
    "\n",
    "``` yaml\n",
    "tests:\n",
    "- mark: pytest.mark.xfail\n",
    "  name: feature_A_exists\n",
    "- name: feature_B_exists\n",
    "```"
   ]
  },
  {
   "cell_type": "code",
   "execution_count": null,
   "metadata": {
    "slideshow": {
     "slide_type": "skip"
    }
   },
   "outputs": [],
   "source": [
    "# First check what pytest mark is\n",
    "import pytest\n",
    "print(pytest.mark.xfail)\n",
    "print(pytest.mark.__getattr__('xfail'))"
   ]
  },
  {
   "cell_type": "code",
   "execution_count": null,
   "metadata": {
    "slideshow": {
     "slide_type": "skip"
    }
   },
   "outputs": [],
   "source": [
    "# Now we can register constructor and representer:\n",
    "import re\n",
    "import yaml\n",
    "import pytest\n",
    "\n",
    "def pytest_mark_constructor(loader, node):\n",
    "    value = loader.construct_scalar(node)\n",
    "    return pytest.mark.__getattr__(value.rsplit(\".\", 1)[1])\n",
    "def pytest_mark_representer(dumper, data):\n",
    "    return dumper.represent_scalar('tag:yaml.org,2002:str', u'pytest.mark.%s' % data.name)\n",
    "yaml.add_constructor(u'!pytest.mark', pytest_mark_constructor, Loader=yaml.SafeLoader)\n",
    "yaml.add_implicit_resolver(u'!pytest.mark', re.compile(r'^pytest\\.mark\\.[a-zA-Z]+$'))\n",
    "yaml.add_representer(type(pytest.mark.xfail), pytest_mark_representer, Dumper=yaml.SafeDumper)\n",
    "# try load pytest.mark. scalar\n",
    "print(yaml.safe_load('{mark: pytest.mark.xfail}'))\n",
    "print(yaml.safe_load('mark: \"pytest.mark.xfail\"'))\n",
    "# check is dumping pytest.mark. scalar works\n",
    "print(yaml.safe_dump({'mark':pytest.mark.xfail}))\n",
    "print ({'mark':pytest.mark.xfail})"
   ]
  },
  {
   "cell_type": "markdown",
   "metadata": {
    "slideshow": {
     "slide_type": "slide"
    }
   },
   "source": [
    "### Useful Links\n",
    "\n",
    "https://cheatsheetseries.owasp.org/cheatsheets/Deserialization_Cheat_Sheet.html - OWASP Deserialization Cheat Sheet"
   ]
  }
 ],
 "metadata": {
  "celltoolbar": "Slideshow",
  "kernelspec": {
   "display_name": "Python 3",
   "language": "python",
   "name": "python3"
  },
  "language_info": {
   "codemirror_mode": {
    "name": "ipython",
    "version": 3
   },
   "file_extension": ".py",
   "mimetype": "text/x-python",
   "name": "python",
   "nbconvert_exporter": "python",
   "pygments_lexer": "ipython3",
   "version": "3.7.4"
  },
  "rise": {
   "autolaunch": true,
   "scroll": true
  }
 },
 "nbformat": 4,
 "nbformat_minor": 4
}
