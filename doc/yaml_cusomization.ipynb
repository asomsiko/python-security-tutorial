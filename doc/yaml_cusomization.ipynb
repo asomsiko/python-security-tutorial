{
 "cells": [
  {
   "cell_type": "markdown",
   "metadata": {
    "slideshow": {
     "slide_type": "slide"
    }
   },
   "source": [
    "## Extending Yaml Loading\n",
    "\n",
    "\n",
    "Declaring safe_load capable object:\n",
    "- Inherit from `yaml.YAMLObject`\n",
    "- Set `yaml_loader = yaml.SafeLoader`"
   ]
  },
  {
   "cell_type": "code",
   "execution_count": 66,
   "metadata": {
    "slideshow": {
     "slide_type": "fragment"
    }
   },
   "outputs": [
    {
     "name": "stdout",
     "output_type": "stream",
     "text": [
      "!Monster\n",
      "ac: 16\n",
      "attacks:\n",
      "- BITE\n",
      "- HURT\n",
      "hp:\n",
      "- 3\n",
      "- 6\n",
      "name: Cave lizard\n",
      "\n"
     ]
    }
   ],
   "source": [
    "import yaml\n",
    "\n",
    "class Monster(yaml.YAMLObject):\n",
    "    yaml_tag = u'!Monster'\n",
    "    yaml_loader = yaml.SafeLoader\n",
    "    yaml_dumper = yaml.SafeDumper\n",
    "    def __init__(self, name, hp, ac, attacks):\n",
    "        self.name = name\n",
    "        self.hp = hp\n",
    "        self.ac = ac\n",
    "        self.attacks = attacks\n",
    "yaml_text = yaml.safe_dump(Monster(\n",
    "    name='Cave lizard',\n",
    "    hp=[3,6],\n",
    "    ac=16,\n",
    "    attacks=['BITE','HURT']))\n",
    "print(yaml_text)"
   ]
  },
  {
   "cell_type": "code",
   "execution_count": 67,
   "metadata": {
    "slideshow": {
     "slide_type": "fragment"
    }
   },
   "outputs": [
    {
     "data": {
      "text/plain": [
       "<__main__.Monster at 0x261398fb7c8>"
      ]
     },
     "execution_count": 67,
     "metadata": {},
     "output_type": "execute_result"
    }
   ],
   "source": [
    "yaml.safe_load(yaml_text)"
   ]
  },
  {
   "cell_type": "markdown",
   "metadata": {
    "slideshow": {
     "slide_type": "slide"
    }
   },
   "source": [
    "### Advanced Safe Loading\n",
    "\n",
    "If you don't want `yaml.YAMLObject` inheritance:\n",
    "- Define functions for serialization.\n",
    "- Register with `yaml.add_constructor` and `yaml.add_representer` for a \"!Monster\" tag.\n",
    "\n",
    "You can also avoid yaml tags with `yaml.add_implicit_resolver` and regexp."
   ]
  },
  {
   "cell_type": "markdown",
   "metadata": {
    "slideshow": {
     "slide_type": "skip"
    }
   },
   "source": [
    "### Implicit Yaml Objects\n",
    "\n",
    "What if you need advanced scalar construction?\n",
    "\n",
    "``` yaml\n",
    "tests:\n",
    "- mark: pytest.mark.xfail\n",
    "  name: feature_A_exists\n",
    "- name: feature_B_exists\n",
    "```"
   ]
  },
  {
   "cell_type": "code",
   "execution_count": 43,
   "metadata": {
    "slideshow": {
     "slide_type": "skip"
    }
   },
   "outputs": [
    {
     "name": "stdout",
     "output_type": "stream",
     "text": [
      "MarkDecorator(mark=Mark(name='xfail', args=(), kwargs={}))\n",
      "MarkDecorator(mark=Mark(name='xfail', args=(), kwargs={}))\n"
     ]
    }
   ],
   "source": [
    "# First check what pytest mark is\n",
    "import pytest\n",
    "print(pytest.mark.xfail)\n",
    "print(pytest.mark.__getattr__('xfail'))"
   ]
  },
  {
   "cell_type": "code",
   "execution_count": 44,
   "metadata": {
    "slideshow": {
     "slide_type": "skip"
    }
   },
   "outputs": [
    {
     "name": "stdout",
     "output_type": "stream",
     "text": [
      "{'mark': 'pytest.mark.xfail'}\n",
      "{'mark': 'pytest.mark.xfail'}\n",
      "mark: pytest.mark.xfail\n",
      "\n",
      "{'mark': MarkDecorator(mark=Mark(name='xfail', args=(), kwargs={}))}\n"
     ]
    }
   ],
   "source": [
    "# Now we can register constructor and representer:\n",
    "import re\n",
    "import yaml\n",
    "import pytest\n",
    "\n",
    "def pytest_mark_constructor(loader, node):\n",
    "    value = loader.construct_scalar(node)\n",
    "    return pytest.mark.__getattr__(value.rsplit(\".\", 1)[1])\n",
    "def pytest_mark_representer(dumper, data):\n",
    "    return dumper.represent_scalar('tag:yaml.org,2002:str', u'pytest.mark.%s' % data.name)\n",
    "yaml.add_constructor(u'!pytest.mark', pytest_mark_constructor, Loader=yaml.SafeLoader)\n",
    "yaml.add_implicit_resolver(u'!pytest.mark', re.compile(r'^pytest\\.mark\\.[a-zA-Z]+$'))\n",
    "yaml.add_representer(type(pytest.mark.xfail), pytest_mark_representer, Dumper=yaml.SafeDumper)\n",
    "# try load pytest.mark. scalar\n",
    "print(yaml.safe_load('{mark: pytest.mark.xfail}'))\n",
    "print(yaml.safe_load('mark: \"pytest.mark.xfail\"'))\n",
    "# check is dumping pytest.mark. scalar works\n",
    "print(yaml.safe_dump({'mark':pytest.mark.xfail}))\n",
    "print ({'mark':pytest.mark.xfail})"
   ]
  }
 ],
 "metadata": {
  "celltoolbar": "Slideshow",
  "kernelspec": {
   "display_name": "Python 3 (ipykernel)",
   "language": "python",
   "name": "python3"
  },
  "language_info": {
   "codemirror_mode": {
    "name": "ipython",
    "version": 3
   },
   "file_extension": ".py",
   "mimetype": "text/x-python",
   "name": "python",
   "nbconvert_exporter": "python",
   "pygments_lexer": "ipython3",
   "version": "3.10.6"
  },
  "rise": {
   "autolaunch": true,
   "scroll": true
  }
 },
 "nbformat": 4,
 "nbformat_minor": 4
}
